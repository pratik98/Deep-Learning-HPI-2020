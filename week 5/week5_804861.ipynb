{
  "nbformat": 4,
  "nbformat_minor": 0,
  "metadata": {
    "kernelspec": {
      "display_name": "Python 3",
      "language": "python",
      "name": "python3"
    },
    "language_info": {
      "codemirror_mode": {
        "name": "ipython",
        "version": 3
      },
      "file_extension": ".py",
      "mimetype": "text/x-python",
      "name": "python",
      "nbconvert_exporter": "python",
      "pygments_lexer": "ipython3",
      "version": "3.7.4"
    },
    "colab": {
      "name": "week5_804861.ipynb",
      "provenance": [],
      "collapsed_sections": [
        "SCfIunp_Q6y2",
        "IIes1em49fNw",
        "FPxGr6ek9fN4",
        "Kja7I86v9fN9",
        "nKaBc4WJ9fOA",
        "KTyiIuGa9fOC"
      ]
    },
    "widgets": {
      "application/vnd.jupyter.widget-state+json": {
        "d234f47b1b2941b8bc0fd941df65d4ab": {
          "model_module": "@jupyter-widgets/controls",
          "model_name": "HBoxModel",
          "state": {
            "_view_name": "HBoxView",
            "_dom_classes": [],
            "_model_name": "HBoxModel",
            "_view_module": "@jupyter-widgets/controls",
            "_model_module_version": "1.5.0",
            "_view_count": null,
            "_view_module_version": "1.5.0",
            "box_style": "",
            "layout": "IPY_MODEL_99b9eea7cf54427d9b197660a430f68d",
            "_model_module": "@jupyter-widgets/controls",
            "children": [
              "IPY_MODEL_ed0497a420364e01b215df934139c6d9",
              "IPY_MODEL_973a4c38bae64eb49be08ebb803f102f"
            ]
          }
        },
        "99b9eea7cf54427d9b197660a430f68d": {
          "model_module": "@jupyter-widgets/base",
          "model_name": "LayoutModel",
          "state": {
            "_view_name": "LayoutView",
            "grid_template_rows": null,
            "right": null,
            "justify_content": null,
            "_view_module": "@jupyter-widgets/base",
            "overflow": null,
            "_model_module_version": "1.2.0",
            "_view_count": null,
            "flex_flow": null,
            "width": null,
            "min_width": null,
            "border": null,
            "align_items": null,
            "bottom": null,
            "_model_module": "@jupyter-widgets/base",
            "top": null,
            "grid_column": null,
            "overflow_y": null,
            "overflow_x": null,
            "grid_auto_flow": null,
            "grid_area": null,
            "grid_template_columns": null,
            "flex": null,
            "_model_name": "LayoutModel",
            "justify_items": null,
            "grid_row": null,
            "max_height": null,
            "align_content": null,
            "visibility": null,
            "align_self": null,
            "height": null,
            "min_height": null,
            "padding": null,
            "grid_auto_rows": null,
            "grid_gap": null,
            "max_width": null,
            "order": null,
            "_view_module_version": "1.2.0",
            "grid_template_areas": null,
            "object_position": null,
            "object_fit": null,
            "grid_auto_columns": null,
            "margin": null,
            "display": null,
            "left": null
          }
        },
        "ed0497a420364e01b215df934139c6d9": {
          "model_module": "@jupyter-widgets/controls",
          "model_name": "FloatProgressModel",
          "state": {
            "_view_name": "ProgressView",
            "style": "IPY_MODEL_919227776db94af8913020b4b92b82fa",
            "_dom_classes": [],
            "description": "",
            "_model_name": "FloatProgressModel",
            "bar_style": "info",
            "max": 1,
            "_view_module": "@jupyter-widgets/controls",
            "_model_module_version": "1.5.0",
            "value": 1,
            "_view_count": null,
            "_view_module_version": "1.5.0",
            "orientation": "horizontal",
            "min": 0,
            "description_tooltip": null,
            "_model_module": "@jupyter-widgets/controls",
            "layout": "IPY_MODEL_bb742a1622974fb89414389699694950"
          }
        },
        "973a4c38bae64eb49be08ebb803f102f": {
          "model_module": "@jupyter-widgets/controls",
          "model_name": "HTMLModel",
          "state": {
            "_view_name": "HTMLView",
            "style": "IPY_MODEL_1d9ca606eb344acc9fd5754734c2f605",
            "_dom_classes": [],
            "description": "",
            "_model_name": "HTMLModel",
            "placeholder": "​",
            "_view_module": "@jupyter-widgets/controls",
            "_model_module_version": "1.5.0",
            "value": " 26427392/? [00:20&lt;00:00, 8768093.40it/s]",
            "_view_count": null,
            "_view_module_version": "1.5.0",
            "description_tooltip": null,
            "_model_module": "@jupyter-widgets/controls",
            "layout": "IPY_MODEL_a372663e245841c2917b0e11992ea5a4"
          }
        },
        "919227776db94af8913020b4b92b82fa": {
          "model_module": "@jupyter-widgets/controls",
          "model_name": "ProgressStyleModel",
          "state": {
            "_view_name": "StyleView",
            "_model_name": "ProgressStyleModel",
            "description_width": "initial",
            "_view_module": "@jupyter-widgets/base",
            "_model_module_version": "1.5.0",
            "_view_count": null,
            "_view_module_version": "1.2.0",
            "bar_color": null,
            "_model_module": "@jupyter-widgets/controls"
          }
        },
        "bb742a1622974fb89414389699694950": {
          "model_module": "@jupyter-widgets/base",
          "model_name": "LayoutModel",
          "state": {
            "_view_name": "LayoutView",
            "grid_template_rows": null,
            "right": null,
            "justify_content": null,
            "_view_module": "@jupyter-widgets/base",
            "overflow": null,
            "_model_module_version": "1.2.0",
            "_view_count": null,
            "flex_flow": null,
            "width": null,
            "min_width": null,
            "border": null,
            "align_items": null,
            "bottom": null,
            "_model_module": "@jupyter-widgets/base",
            "top": null,
            "grid_column": null,
            "overflow_y": null,
            "overflow_x": null,
            "grid_auto_flow": null,
            "grid_area": null,
            "grid_template_columns": null,
            "flex": null,
            "_model_name": "LayoutModel",
            "justify_items": null,
            "grid_row": null,
            "max_height": null,
            "align_content": null,
            "visibility": null,
            "align_self": null,
            "height": null,
            "min_height": null,
            "padding": null,
            "grid_auto_rows": null,
            "grid_gap": null,
            "max_width": null,
            "order": null,
            "_view_module_version": "1.2.0",
            "grid_template_areas": null,
            "object_position": null,
            "object_fit": null,
            "grid_auto_columns": null,
            "margin": null,
            "display": null,
            "left": null
          }
        },
        "1d9ca606eb344acc9fd5754734c2f605": {
          "model_module": "@jupyter-widgets/controls",
          "model_name": "DescriptionStyleModel",
          "state": {
            "_view_name": "StyleView",
            "_model_name": "DescriptionStyleModel",
            "description_width": "",
            "_view_module": "@jupyter-widgets/base",
            "_model_module_version": "1.5.0",
            "_view_count": null,
            "_view_module_version": "1.2.0",
            "_model_module": "@jupyter-widgets/controls"
          }
        },
        "a372663e245841c2917b0e11992ea5a4": {
          "model_module": "@jupyter-widgets/base",
          "model_name": "LayoutModel",
          "state": {
            "_view_name": "LayoutView",
            "grid_template_rows": null,
            "right": null,
            "justify_content": null,
            "_view_module": "@jupyter-widgets/base",
            "overflow": null,
            "_model_module_version": "1.2.0",
            "_view_count": null,
            "flex_flow": null,
            "width": null,
            "min_width": null,
            "border": null,
            "align_items": null,
            "bottom": null,
            "_model_module": "@jupyter-widgets/base",
            "top": null,
            "grid_column": null,
            "overflow_y": null,
            "overflow_x": null,
            "grid_auto_flow": null,
            "grid_area": null,
            "grid_template_columns": null,
            "flex": null,
            "_model_name": "LayoutModel",
            "justify_items": null,
            "grid_row": null,
            "max_height": null,
            "align_content": null,
            "visibility": null,
            "align_self": null,
            "height": null,
            "min_height": null,
            "padding": null,
            "grid_auto_rows": null,
            "grid_gap": null,
            "max_width": null,
            "order": null,
            "_view_module_version": "1.2.0",
            "grid_template_areas": null,
            "object_position": null,
            "object_fit": null,
            "grid_auto_columns": null,
            "margin": null,
            "display": null,
            "left": null
          }
        },
        "ccb3f0b489cb4f50a19841fc48a9df62": {
          "model_module": "@jupyter-widgets/controls",
          "model_name": "HBoxModel",
          "state": {
            "_view_name": "HBoxView",
            "_dom_classes": [],
            "_model_name": "HBoxModel",
            "_view_module": "@jupyter-widgets/controls",
            "_model_module_version": "1.5.0",
            "_view_count": null,
            "_view_module_version": "1.5.0",
            "box_style": "",
            "layout": "IPY_MODEL_e943dfb5fb294116a9d9b8cf872e347a",
            "_model_module": "@jupyter-widgets/controls",
            "children": [
              "IPY_MODEL_1d820ad29e4948f090589603169cf4e2",
              "IPY_MODEL_0a71738ef4ff49ed89a57ac7d13ec2dd"
            ]
          }
        },
        "e943dfb5fb294116a9d9b8cf872e347a": {
          "model_module": "@jupyter-widgets/base",
          "model_name": "LayoutModel",
          "state": {
            "_view_name": "LayoutView",
            "grid_template_rows": null,
            "right": null,
            "justify_content": null,
            "_view_module": "@jupyter-widgets/base",
            "overflow": null,
            "_model_module_version": "1.2.0",
            "_view_count": null,
            "flex_flow": null,
            "width": null,
            "min_width": null,
            "border": null,
            "align_items": null,
            "bottom": null,
            "_model_module": "@jupyter-widgets/base",
            "top": null,
            "grid_column": null,
            "overflow_y": null,
            "overflow_x": null,
            "grid_auto_flow": null,
            "grid_area": null,
            "grid_template_columns": null,
            "flex": null,
            "_model_name": "LayoutModel",
            "justify_items": null,
            "grid_row": null,
            "max_height": null,
            "align_content": null,
            "visibility": null,
            "align_self": null,
            "height": null,
            "min_height": null,
            "padding": null,
            "grid_auto_rows": null,
            "grid_gap": null,
            "max_width": null,
            "order": null,
            "_view_module_version": "1.2.0",
            "grid_template_areas": null,
            "object_position": null,
            "object_fit": null,
            "grid_auto_columns": null,
            "margin": null,
            "display": null,
            "left": null
          }
        },
        "1d820ad29e4948f090589603169cf4e2": {
          "model_module": "@jupyter-widgets/controls",
          "model_name": "FloatProgressModel",
          "state": {
            "_view_name": "ProgressView",
            "style": "IPY_MODEL_9f3bcb845ad142e9b1c411a49d27f1b6",
            "_dom_classes": [],
            "description": "",
            "_model_name": "FloatProgressModel",
            "bar_style": "success",
            "max": 1,
            "_view_module": "@jupyter-widgets/controls",
            "_model_module_version": "1.5.0",
            "value": 1,
            "_view_count": null,
            "_view_module_version": "1.5.0",
            "orientation": "horizontal",
            "min": 0,
            "description_tooltip": null,
            "_model_module": "@jupyter-widgets/controls",
            "layout": "IPY_MODEL_74a01964c1ea4afd86d455a7495c9252"
          }
        },
        "0a71738ef4ff49ed89a57ac7d13ec2dd": {
          "model_module": "@jupyter-widgets/controls",
          "model_name": "HTMLModel",
          "state": {
            "_view_name": "HTMLView",
            "style": "IPY_MODEL_25cf1cd3467940da975284e63d98676c",
            "_dom_classes": [],
            "description": "",
            "_model_name": "HTMLModel",
            "placeholder": "​",
            "_view_module": "@jupyter-widgets/controls",
            "_model_module_version": "1.5.0",
            "value": " 32768/? [00:03&lt;00:00, 8908.25it/s]",
            "_view_count": null,
            "_view_module_version": "1.5.0",
            "description_tooltip": null,
            "_model_module": "@jupyter-widgets/controls",
            "layout": "IPY_MODEL_5a9d2eaaff66477b8a85fecd49c2651d"
          }
        },
        "9f3bcb845ad142e9b1c411a49d27f1b6": {
          "model_module": "@jupyter-widgets/controls",
          "model_name": "ProgressStyleModel",
          "state": {
            "_view_name": "StyleView",
            "_model_name": "ProgressStyleModel",
            "description_width": "initial",
            "_view_module": "@jupyter-widgets/base",
            "_model_module_version": "1.5.0",
            "_view_count": null,
            "_view_module_version": "1.2.0",
            "bar_color": null,
            "_model_module": "@jupyter-widgets/controls"
          }
        },
        "74a01964c1ea4afd86d455a7495c9252": {
          "model_module": "@jupyter-widgets/base",
          "model_name": "LayoutModel",
          "state": {
            "_view_name": "LayoutView",
            "grid_template_rows": null,
            "right": null,
            "justify_content": null,
            "_view_module": "@jupyter-widgets/base",
            "overflow": null,
            "_model_module_version": "1.2.0",
            "_view_count": null,
            "flex_flow": null,
            "width": null,
            "min_width": null,
            "border": null,
            "align_items": null,
            "bottom": null,
            "_model_module": "@jupyter-widgets/base",
            "top": null,
            "grid_column": null,
            "overflow_y": null,
            "overflow_x": null,
            "grid_auto_flow": null,
            "grid_area": null,
            "grid_template_columns": null,
            "flex": null,
            "_model_name": "LayoutModel",
            "justify_items": null,
            "grid_row": null,
            "max_height": null,
            "align_content": null,
            "visibility": null,
            "align_self": null,
            "height": null,
            "min_height": null,
            "padding": null,
            "grid_auto_rows": null,
            "grid_gap": null,
            "max_width": null,
            "order": null,
            "_view_module_version": "1.2.0",
            "grid_template_areas": null,
            "object_position": null,
            "object_fit": null,
            "grid_auto_columns": null,
            "margin": null,
            "display": null,
            "left": null
          }
        },
        "25cf1cd3467940da975284e63d98676c": {
          "model_module": "@jupyter-widgets/controls",
          "model_name": "DescriptionStyleModel",
          "state": {
            "_view_name": "StyleView",
            "_model_name": "DescriptionStyleModel",
            "description_width": "",
            "_view_module": "@jupyter-widgets/base",
            "_model_module_version": "1.5.0",
            "_view_count": null,
            "_view_module_version": "1.2.0",
            "_model_module": "@jupyter-widgets/controls"
          }
        },
        "5a9d2eaaff66477b8a85fecd49c2651d": {
          "model_module": "@jupyter-widgets/base",
          "model_name": "LayoutModel",
          "state": {
            "_view_name": "LayoutView",
            "grid_template_rows": null,
            "right": null,
            "justify_content": null,
            "_view_module": "@jupyter-widgets/base",
            "overflow": null,
            "_model_module_version": "1.2.0",
            "_view_count": null,
            "flex_flow": null,
            "width": null,
            "min_width": null,
            "border": null,
            "align_items": null,
            "bottom": null,
            "_model_module": "@jupyter-widgets/base",
            "top": null,
            "grid_column": null,
            "overflow_y": null,
            "overflow_x": null,
            "grid_auto_flow": null,
            "grid_area": null,
            "grid_template_columns": null,
            "flex": null,
            "_model_name": "LayoutModel",
            "justify_items": null,
            "grid_row": null,
            "max_height": null,
            "align_content": null,
            "visibility": null,
            "align_self": null,
            "height": null,
            "min_height": null,
            "padding": null,
            "grid_auto_rows": null,
            "grid_gap": null,
            "max_width": null,
            "order": null,
            "_view_module_version": "1.2.0",
            "grid_template_areas": null,
            "object_position": null,
            "object_fit": null,
            "grid_auto_columns": null,
            "margin": null,
            "display": null,
            "left": null
          }
        },
        "aa08981b9bb846acaab66aeca041599a": {
          "model_module": "@jupyter-widgets/controls",
          "model_name": "HBoxModel",
          "state": {
            "_view_name": "HBoxView",
            "_dom_classes": [],
            "_model_name": "HBoxModel",
            "_view_module": "@jupyter-widgets/controls",
            "_model_module_version": "1.5.0",
            "_view_count": null,
            "_view_module_version": "1.5.0",
            "box_style": "",
            "layout": "IPY_MODEL_6e95ae1c533544b2be826724cc59bffd",
            "_model_module": "@jupyter-widgets/controls",
            "children": [
              "IPY_MODEL_d4cbf49f63cd4778959f681b6df6976e",
              "IPY_MODEL_ea4cc359a8b9411fb3bb54b44b498487"
            ]
          }
        },
        "6e95ae1c533544b2be826724cc59bffd": {
          "model_module": "@jupyter-widgets/base",
          "model_name": "LayoutModel",
          "state": {
            "_view_name": "LayoutView",
            "grid_template_rows": null,
            "right": null,
            "justify_content": null,
            "_view_module": "@jupyter-widgets/base",
            "overflow": null,
            "_model_module_version": "1.2.0",
            "_view_count": null,
            "flex_flow": null,
            "width": null,
            "min_width": null,
            "border": null,
            "align_items": null,
            "bottom": null,
            "_model_module": "@jupyter-widgets/base",
            "top": null,
            "grid_column": null,
            "overflow_y": null,
            "overflow_x": null,
            "grid_auto_flow": null,
            "grid_area": null,
            "grid_template_columns": null,
            "flex": null,
            "_model_name": "LayoutModel",
            "justify_items": null,
            "grid_row": null,
            "max_height": null,
            "align_content": null,
            "visibility": null,
            "align_self": null,
            "height": null,
            "min_height": null,
            "padding": null,
            "grid_auto_rows": null,
            "grid_gap": null,
            "max_width": null,
            "order": null,
            "_view_module_version": "1.2.0",
            "grid_template_areas": null,
            "object_position": null,
            "object_fit": null,
            "grid_auto_columns": null,
            "margin": null,
            "display": null,
            "left": null
          }
        },
        "d4cbf49f63cd4778959f681b6df6976e": {
          "model_module": "@jupyter-widgets/controls",
          "model_name": "FloatProgressModel",
          "state": {
            "_view_name": "ProgressView",
            "style": "IPY_MODEL_fdfdc92c3d7f49fa85af130561ee39b1",
            "_dom_classes": [],
            "description": "",
            "_model_name": "FloatProgressModel",
            "bar_style": "success",
            "max": 1,
            "_view_module": "@jupyter-widgets/controls",
            "_model_module_version": "1.5.0",
            "value": 1,
            "_view_count": null,
            "_view_module_version": "1.5.0",
            "orientation": "horizontal",
            "min": 0,
            "description_tooltip": null,
            "_model_module": "@jupyter-widgets/controls",
            "layout": "IPY_MODEL_18abfc5abc9140bb992d8fc492037eeb"
          }
        },
        "ea4cc359a8b9411fb3bb54b44b498487": {
          "model_module": "@jupyter-widgets/controls",
          "model_name": "HTMLModel",
          "state": {
            "_view_name": "HTMLView",
            "style": "IPY_MODEL_c819e72911ea4c779d39d5ca2b5f8ce5",
            "_dom_classes": [],
            "description": "",
            "_model_name": "HTMLModel",
            "placeholder": "​",
            "_view_module": "@jupyter-widgets/controls",
            "_model_module_version": "1.5.0",
            "value": " 4423680/? [00:02&lt;00:00, 1578877.84it/s]",
            "_view_count": null,
            "_view_module_version": "1.5.0",
            "description_tooltip": null,
            "_model_module": "@jupyter-widgets/controls",
            "layout": "IPY_MODEL_d2d5d58fb597419abb4a23112dd8feb7"
          }
        },
        "fdfdc92c3d7f49fa85af130561ee39b1": {
          "model_module": "@jupyter-widgets/controls",
          "model_name": "ProgressStyleModel",
          "state": {
            "_view_name": "StyleView",
            "_model_name": "ProgressStyleModel",
            "description_width": "initial",
            "_view_module": "@jupyter-widgets/base",
            "_model_module_version": "1.5.0",
            "_view_count": null,
            "_view_module_version": "1.2.0",
            "bar_color": null,
            "_model_module": "@jupyter-widgets/controls"
          }
        },
        "18abfc5abc9140bb992d8fc492037eeb": {
          "model_module": "@jupyter-widgets/base",
          "model_name": "LayoutModel",
          "state": {
            "_view_name": "LayoutView",
            "grid_template_rows": null,
            "right": null,
            "justify_content": null,
            "_view_module": "@jupyter-widgets/base",
            "overflow": null,
            "_model_module_version": "1.2.0",
            "_view_count": null,
            "flex_flow": null,
            "width": null,
            "min_width": null,
            "border": null,
            "align_items": null,
            "bottom": null,
            "_model_module": "@jupyter-widgets/base",
            "top": null,
            "grid_column": null,
            "overflow_y": null,
            "overflow_x": null,
            "grid_auto_flow": null,
            "grid_area": null,
            "grid_template_columns": null,
            "flex": null,
            "_model_name": "LayoutModel",
            "justify_items": null,
            "grid_row": null,
            "max_height": null,
            "align_content": null,
            "visibility": null,
            "align_self": null,
            "height": null,
            "min_height": null,
            "padding": null,
            "grid_auto_rows": null,
            "grid_gap": null,
            "max_width": null,
            "order": null,
            "_view_module_version": "1.2.0",
            "grid_template_areas": null,
            "object_position": null,
            "object_fit": null,
            "grid_auto_columns": null,
            "margin": null,
            "display": null,
            "left": null
          }
        },
        "c819e72911ea4c779d39d5ca2b5f8ce5": {
          "model_module": "@jupyter-widgets/controls",
          "model_name": "DescriptionStyleModel",
          "state": {
            "_view_name": "StyleView",
            "_model_name": "DescriptionStyleModel",
            "description_width": "",
            "_view_module": "@jupyter-widgets/base",
            "_model_module_version": "1.5.0",
            "_view_count": null,
            "_view_module_version": "1.2.0",
            "_model_module": "@jupyter-widgets/controls"
          }
        },
        "d2d5d58fb597419abb4a23112dd8feb7": {
          "model_module": "@jupyter-widgets/base",
          "model_name": "LayoutModel",
          "state": {
            "_view_name": "LayoutView",
            "grid_template_rows": null,
            "right": null,
            "justify_content": null,
            "_view_module": "@jupyter-widgets/base",
            "overflow": null,
            "_model_module_version": "1.2.0",
            "_view_count": null,
            "flex_flow": null,
            "width": null,
            "min_width": null,
            "border": null,
            "align_items": null,
            "bottom": null,
            "_model_module": "@jupyter-widgets/base",
            "top": null,
            "grid_column": null,
            "overflow_y": null,
            "overflow_x": null,
            "grid_auto_flow": null,
            "grid_area": null,
            "grid_template_columns": null,
            "flex": null,
            "_model_name": "LayoutModel",
            "justify_items": null,
            "grid_row": null,
            "max_height": null,
            "align_content": null,
            "visibility": null,
            "align_self": null,
            "height": null,
            "min_height": null,
            "padding": null,
            "grid_auto_rows": null,
            "grid_gap": null,
            "max_width": null,
            "order": null,
            "_view_module_version": "1.2.0",
            "grid_template_areas": null,
            "object_position": null,
            "object_fit": null,
            "grid_auto_columns": null,
            "margin": null,
            "display": null,
            "left": null
          }
        },
        "f7385ca9f4fb4bd98ec00ae3048ecbe0": {
          "model_module": "@jupyter-widgets/controls",
          "model_name": "HBoxModel",
          "state": {
            "_view_name": "HBoxView",
            "_dom_classes": [],
            "_model_name": "HBoxModel",
            "_view_module": "@jupyter-widgets/controls",
            "_model_module_version": "1.5.0",
            "_view_count": null,
            "_view_module_version": "1.5.0",
            "box_style": "",
            "layout": "IPY_MODEL_56b38496b0a94ebdb03a6fc62f26ef6d",
            "_model_module": "@jupyter-widgets/controls",
            "children": [
              "IPY_MODEL_c215cbffd3fa45b99f201bbfb7d7bad1",
              "IPY_MODEL_fdebc1050faa4e3fb573b775ba0f76b2"
            ]
          }
        },
        "56b38496b0a94ebdb03a6fc62f26ef6d": {
          "model_module": "@jupyter-widgets/base",
          "model_name": "LayoutModel",
          "state": {
            "_view_name": "LayoutView",
            "grid_template_rows": null,
            "right": null,
            "justify_content": null,
            "_view_module": "@jupyter-widgets/base",
            "overflow": null,
            "_model_module_version": "1.2.0",
            "_view_count": null,
            "flex_flow": null,
            "width": null,
            "min_width": null,
            "border": null,
            "align_items": null,
            "bottom": null,
            "_model_module": "@jupyter-widgets/base",
            "top": null,
            "grid_column": null,
            "overflow_y": null,
            "overflow_x": null,
            "grid_auto_flow": null,
            "grid_area": null,
            "grid_template_columns": null,
            "flex": null,
            "_model_name": "LayoutModel",
            "justify_items": null,
            "grid_row": null,
            "max_height": null,
            "align_content": null,
            "visibility": null,
            "align_self": null,
            "height": null,
            "min_height": null,
            "padding": null,
            "grid_auto_rows": null,
            "grid_gap": null,
            "max_width": null,
            "order": null,
            "_view_module_version": "1.2.0",
            "grid_template_areas": null,
            "object_position": null,
            "object_fit": null,
            "grid_auto_columns": null,
            "margin": null,
            "display": null,
            "left": null
          }
        },
        "c215cbffd3fa45b99f201bbfb7d7bad1": {
          "model_module": "@jupyter-widgets/controls",
          "model_name": "FloatProgressModel",
          "state": {
            "_view_name": "ProgressView",
            "style": "IPY_MODEL_b99c4a69a7834b71a63bcd661d750c6f",
            "_dom_classes": [],
            "description": "  0%",
            "_model_name": "FloatProgressModel",
            "bar_style": "info",
            "max": 1,
            "_view_module": "@jupyter-widgets/controls",
            "_model_module_version": "1.5.0",
            "value": 0,
            "_view_count": null,
            "_view_module_version": "1.5.0",
            "orientation": "horizontal",
            "min": 0,
            "description_tooltip": null,
            "_model_module": "@jupyter-widgets/controls",
            "layout": "IPY_MODEL_98cdc065e7df415c9c8ee00b1e9e205a"
          }
        },
        "fdebc1050faa4e3fb573b775ba0f76b2": {
          "model_module": "@jupyter-widgets/controls",
          "model_name": "HTMLModel",
          "state": {
            "_view_name": "HTMLView",
            "style": "IPY_MODEL_c61e6cad9a9349d4bce2af54588c73ac",
            "_dom_classes": [],
            "description": "",
            "_model_name": "HTMLModel",
            "placeholder": "​",
            "_view_module": "@jupyter-widgets/controls",
            "_model_module_version": "1.5.0",
            "value": " 0/5148 [00:00&lt;?, ?it/s]",
            "_view_count": null,
            "_view_module_version": "1.5.0",
            "description_tooltip": null,
            "_model_module": "@jupyter-widgets/controls",
            "layout": "IPY_MODEL_91e3cf4e54c74ccea3e454e02f37bd89"
          }
        },
        "b99c4a69a7834b71a63bcd661d750c6f": {
          "model_module": "@jupyter-widgets/controls",
          "model_name": "ProgressStyleModel",
          "state": {
            "_view_name": "StyleView",
            "_model_name": "ProgressStyleModel",
            "description_width": "initial",
            "_view_module": "@jupyter-widgets/base",
            "_model_module_version": "1.5.0",
            "_view_count": null,
            "_view_module_version": "1.2.0",
            "bar_color": null,
            "_model_module": "@jupyter-widgets/controls"
          }
        },
        "98cdc065e7df415c9c8ee00b1e9e205a": {
          "model_module": "@jupyter-widgets/base",
          "model_name": "LayoutModel",
          "state": {
            "_view_name": "LayoutView",
            "grid_template_rows": null,
            "right": null,
            "justify_content": null,
            "_view_module": "@jupyter-widgets/base",
            "overflow": null,
            "_model_module_version": "1.2.0",
            "_view_count": null,
            "flex_flow": null,
            "width": null,
            "min_width": null,
            "border": null,
            "align_items": null,
            "bottom": null,
            "_model_module": "@jupyter-widgets/base",
            "top": null,
            "grid_column": null,
            "overflow_y": null,
            "overflow_x": null,
            "grid_auto_flow": null,
            "grid_area": null,
            "grid_template_columns": null,
            "flex": null,
            "_model_name": "LayoutModel",
            "justify_items": null,
            "grid_row": null,
            "max_height": null,
            "align_content": null,
            "visibility": null,
            "align_self": null,
            "height": null,
            "min_height": null,
            "padding": null,
            "grid_auto_rows": null,
            "grid_gap": null,
            "max_width": null,
            "order": null,
            "_view_module_version": "1.2.0",
            "grid_template_areas": null,
            "object_position": null,
            "object_fit": null,
            "grid_auto_columns": null,
            "margin": null,
            "display": null,
            "left": null
          }
        },
        "c61e6cad9a9349d4bce2af54588c73ac": {
          "model_module": "@jupyter-widgets/controls",
          "model_name": "DescriptionStyleModel",
          "state": {
            "_view_name": "StyleView",
            "_model_name": "DescriptionStyleModel",
            "description_width": "",
            "_view_module": "@jupyter-widgets/base",
            "_model_module_version": "1.5.0",
            "_view_count": null,
            "_view_module_version": "1.2.0",
            "_model_module": "@jupyter-widgets/controls"
          }
        },
        "91e3cf4e54c74ccea3e454e02f37bd89": {
          "model_module": "@jupyter-widgets/base",
          "model_name": "LayoutModel",
          "state": {
            "_view_name": "LayoutView",
            "grid_template_rows": null,
            "right": null,
            "justify_content": null,
            "_view_module": "@jupyter-widgets/base",
            "overflow": null,
            "_model_module_version": "1.2.0",
            "_view_count": null,
            "flex_flow": null,
            "width": null,
            "min_width": null,
            "border": null,
            "align_items": null,
            "bottom": null,
            "_model_module": "@jupyter-widgets/base",
            "top": null,
            "grid_column": null,
            "overflow_y": null,
            "overflow_x": null,
            "grid_auto_flow": null,
            "grid_area": null,
            "grid_template_columns": null,
            "flex": null,
            "_model_name": "LayoutModel",
            "justify_items": null,
            "grid_row": null,
            "max_height": null,
            "align_content": null,
            "visibility": null,
            "align_self": null,
            "height": null,
            "min_height": null,
            "padding": null,
            "grid_auto_rows": null,
            "grid_gap": null,
            "max_width": null,
            "order": null,
            "_view_module_version": "1.2.0",
            "grid_template_areas": null,
            "object_position": null,
            "object_fit": null,
            "grid_auto_columns": null,
            "margin": null,
            "display": null,
            "left": null
          }
        }
      }
    }
  },
  "cells": [
    {
      "cell_type": "markdown",
      "metadata": {
        "id": "-SOjAQvMQHe8",
        "colab_type": "text"
      },
      "source": [
        "# Multilayer Perceptron\n",
        "\n",
        "In the previous chapters, we showed how you could implement multiclass logistic regression (also called softmax regression)\n",
        "for classifying images of clothing into the 10 possible categories.\n",
        "To get there, we had to learn how to wrangle data,\n",
        "coerce our outputs into a valid probability distribution (via `softmax`),\n",
        "how to apply an appropriate loss function,\n",
        "and how to optimize over our parameters.\n",
        "Now that we’ve covered these preliminaries,\n",
        "we are free to focus our attention on\n",
        "the more exciting enterprise of designing powerful models\n",
        "using deep neural networks.\n",
        "\n",
        "## Hidden Layers\n",
        "\n",
        "Recall that for linear regression and softmax regression,\n",
        "we mapped our inputs directly to our outputs\n",
        "via a single linear transformation:\n",
        "\n",
        "$$\n",
        "\\hat{\\mathbf{o}} = \\mathrm{softmax}(\\mathbf{W} \\mathbf{x} + \\mathbf{b})\n",
        "$$"
      ]
    },
    {
      "cell_type": "markdown",
      "metadata": {
        "id": "9Dhh9uuwQHfB",
        "colab_type": "text"
      },
      "source": [
        "If our labels really were related to our input data\n",
        "by an approximately linear function, then this approach would be perfect.\n",
        "But linearity is a *strong assumption*.\n",
        "Linearity implies that for whatever target value we are trying to predict,\n",
        "increasing the value of each of our inputs\n",
        "should either drive the value of the output up or drive it down,\n",
        "irrespective of the value of the other inputs.\n",
        "\n",
        "Sometimes this makes sense!\n",
        "Say we are trying to predict whether an individual\n",
        "will or will not repay a loan.\n",
        "We might reasonably imagine that all else being equal,\n",
        "an applicant with a higher income\n",
        "would be more likely to repay than one with a lower income.\n",
        "In these cases, linear models might perform well,\n",
        "and they might even be hard to beat.\n",
        "\n",
        "But what about classifying images in FashionMNIST?\n",
        "Should increasing the intensity of the pixel at location (13,17)\n",
        "always increase the likelihood that the image depicts a pocketbook?\n",
        "That seems ridiculous because we all know\n",
        "that you cannot make sense out of an image\n",
        "without accounting for the interactions among pixels.\n",
        "\n",
        "\n",
        "\n",
        "### From one to many\n",
        "\n",
        "As another case, consider trying to classify images\n",
        "based on whether they depict *cats* or *dogs* given black-and-white images.\n",
        "\n",
        "If we use a linear model, we'd basically be saying that\n",
        "for each pixel, increasing its value (making it more white)\n",
        "must always increase the probability that the image depicts a dog\n",
        "or must always increase the probability that the image depicts a cat.\n",
        "We would be making the absurd assumption that the only requirement\n",
        "for differentiating cats vs. dogs is to assess how bright they are.\n",
        "That approach is doomed to fail in a work\n",
        "that contains both black dogs and black cats,\n",
        "and both white dogs and white cats.\n",
        "\n",
        "Teasing out what is depicted in an image generally requires\n",
        "allowing more complex relationships between our inputs and outputs.\n",
        "Thus we need models capable of discovering patterns\n",
        "that might be characterized by interactions among the many features.\n",
        "We can over come these limitations of linear models\n",
        "and handle a more general class of functions\n",
        "by incorporating one or more hidden layers.\n",
        "The easiest way to do this is to stack\n",
        "many layers of neurons on top of each other.\n",
        "Each layer feeds into the layer above it, until we generate an output.\n",
        "This architecture is commonly called a *multilayer perceptron*,\n",
        "often abbreviated as *MLP*.\n",
        "The neural network diagram for an MLP looks like this:"
      ]
    },
    {
      "cell_type": "markdown",
      "metadata": {
        "id": "Z6jd5gGCQHfD",
        "colab_type": "text"
      },
      "source": [
        "The multilayer perceptron above has 4 inputs and 3 outputs,\n",
        "and the hidden layer in the middle contains 5 hidden units.\n",
        "Since the input layer does not involve any calculations,\n",
        "building this network would consist of\n",
        "implementing 2 layers of computation.\n",
        "The neurons in the input layer are fully connected\n",
        "to the inputs in the hidden layer.\n",
        "Likewise, the neurons in the hidden layer\n",
        "are fully connected to the neurons in the output layer.\n",
        "\n",
        "\n",
        "### From linear to nonlinear\n",
        "\n",
        "We can write out the calculations that define this one-hidden-layer MLP in mathematical notation as follows:\n",
        "$$\n",
        "\\begin{aligned}\n",
        "    \\mathbf{h} & = \\mathbf{W}_1 \\mathbf{x} + \\mathbf{b}_1 \\\\\n",
        "    \\mathbf{o} & = \\mathbf{W}_2 \\mathbf{h} + \\mathbf{b}_2 \\\\\n",
        "    \\hat{\\mathbf{y}} & = \\mathrm{softmax}(\\mathbf{o})\n",
        "\\end{aligned}\n",
        "$$\n",
        "\n",
        "By adding another layer, we have added two new sets of parameters,\n",
        "but what have we gained in exchange?\n",
        "In the model defined above, we do not achieve anything for our troubles!\n",
        "\n",
        "That's because our hidden units are just a linear function of the inputs\n",
        "and the outputs (pre-softmax) are just a linear function of the hidden units.\n",
        "A linear function of a linear function is itself a linear function.\n",
        "That means that for any values of the weights,\n",
        "we could just collapse out the hidden layer\n",
        "yielding an equivalent single-layer model using\n",
        "$\\mathbf{W} = \\mathbf{W}_2 \\mathbf{W}_1$ and $\\mathbf{b} = \\mathbf{W}_2 \\mathbf{b}_1 + \\mathbf{b}_2$.\n",
        "\n",
        "$$\\mathbf{o} = \\mathbf{W}_2 \\mathbf{h} + \\mathbf{b}_2 = \\mathbf{W}_2 (\\mathbf{W}_1 \\mathbf{x} + \\mathbf{b}_1) + \\mathbf{b}_2 = (\\mathbf{W}_2 \\mathbf{W}_1) \\mathbf{x} + (\\mathbf{W}_2 \\mathbf{b}_1 + \\mathbf{b}_2) = \\mathbf{W} \\mathbf{x} + \\mathbf{b}$$\n",
        "\n",
        "In order to get a benefit from multilayer architectures,\n",
        "we need another key ingredient—a nonlinearity $\\sigma$ to be applied to each of the hidden units after each layer's linear transformation.\n",
        "The most popular choice for the nonlinearity these days is the rectified linear unit (ReLU) $\\mathrm{max}(x,0)$.\n",
        "After incorporating these non-linearities\n",
        "it becomes impossible to merge layers.\n",
        "\n",
        "$$\n",
        "\\begin{aligned}\n",
        "    \\mathbf{h} & = \\sigma(\\mathbf{W}_1 \\mathbf{x} + \\mathbf{b}_1) \\\\\n",
        "    \\mathbf{o} & = \\mathbf{W}_2 \\mathbf{h} + \\mathbf{b}_2 \\\\\n",
        "    \\hat{\\mathbf{y}} & = \\mathrm{softmax}(\\mathbf{o})\n",
        "\\end{aligned}\n",
        "$$\n",
        "\n",
        "Clearly, we could continue stacking such hidden layers,\n",
        "e.g. $\\mathbf{h}_1 = \\sigma(\\mathbf{W}_1 \\mathbf{x} + \\mathbf{b}_1)$\n",
        "and $\\mathbf{h}_2 = \\sigma(\\mathbf{W}_2 \\mathbf{h}_1 + \\mathbf{b}_2)$\n",
        "on top of each other to obtain a true multilayer perceptron.\n",
        "\n",
        "Multilayer perceptrons can account for complex interactions in the inputs\n",
        "because the hidden neurons depend on the values of each of the inputs.\n",
        "It’s easy to design a hidden node that does arbitrary computation,\n",
        "such as, for instance, logical operations on its inputs.\n",
        "Moreover, for certain choices of the activation function\n",
        "it’s widely known that multilayer perceptrons are universal approximators.\n",
        "That means that even for a single-hidden-layer neural network,\n",
        "with enough nodes, and the right set of weights,\n",
        "we can model any function at all!\n",
        "*Actually learning that function is the hard part.*\n",
        "\n",
        "Moreover, just because a single-layer network *can* learn any function\n",
        "doesn't mean that you should try to solve all of your problems with single-layer networks.\n",
        "It turns out that we can approximate many functions\n",
        "much more compactly if we use deeper (vs wider) neural networks.\n",
        "We’ll get more into the math in a subsequent chapter,\n",
        "but for now let’s actually build an MLP.\n",
        "In this example, we’ll implement a multilayer perceptron\n",
        "with two hidden layers and one output layer.\n",
        "\n",
        "### Vectorization and mini-batch\n",
        "\n",
        "As before, by the matrix $\\mathbf{X}$, we denote a mini-batch of inputs.\n",
        "The calculations to produce outputs from an MLP with two hidden layers\n",
        "can thus be expressed:\n",
        "\n",
        "$$\n",
        "\\begin{aligned}\n",
        "    \\mathbf{H}_1 & = \\sigma(\\mathbf{W}_1 \\mathbf{X} + \\mathbf{b}_1) \\\\\n",
        "    \\mathbf{H}_2 & = \\sigma(\\mathbf{W}_2 \\mathbf{H}_1 + \\mathbf{b}_2) \\\\\n",
        "    \\mathbf{O} & = \\mathrm{softmax}(\\mathbf{W}_3 \\mathbf{H}_2 + \\mathbf{b}_3)\n",
        "\\end{aligned}\n",
        "$$\n",
        "\n",
        "With some abuse of notation, we define the nonlinearity $\\sigma$\n",
        "to apply to its inputs on a row-wise fashion, i.e. one observation at a time.\n",
        "Note that we are also using the notation for *softmax* in the same way to denote a row-wise operation.\n",
        "Often, as in this chapter, the activation functions that we apply to hidden layers are not merely row-wise, but component wise.\n",
        "That means that after computing the linear portion of the layer,\n",
        "we can calculate each nodes activation without looking at the values taken by the other hidden units.\n",
        "This is true for most activation functions\n",
        "(the batch normalization operation will be introduced in :numref:`chapter_batch_norm` is a notable exception to that rule).\n",
        "\n",
        "## Activation Functions\n",
        "\n",
        "Because they are so fundamental to deep learning, before going further,\n",
        "let's take a brief look at some common activation functions.\n",
        "\n",
        "### ReLU Function\n",
        "\n",
        "As stated above, the most popular choice,\n",
        "due to its simplicity of implementation\n",
        "and its efficacy in training is the rectified linear unit (ReLU).\n",
        "ReLUs provide a very simple nonlinear transformation.\n",
        "Given the element $z$, the function is defined\n",
        "as the maximum of that element and 0.\n",
        "\n",
        "$$\\mathrm{ReLU}(z) = \\max(z, 0).$$\n",
        "\n",
        "It can be understood that the ReLU function retains only positive elements and discards negative elements (setting those nodes to 0).\n",
        "To get a better idea of what it looks like, we can plot it.\n",
        "For convenience, we define a plotting function `xyplot`\n",
        "to take care of the groundwork."
      ]
    },
    {
      "cell_type": "code",
      "metadata": {
        "id": "yUOI-LhGQHfE",
        "colab_type": "code",
        "colab": {}
      },
      "source": [
        "import sys\n",
        "sys.path.insert(0, '..')\n",
        "\n",
        "import numpy\n",
        "import matplotlib.pyplot as plt\n",
        "import torch\n",
        "import torch.nn as nn\n",
        "from torch.utils.data import DataLoader\n",
        "from torch.autograd import Variable\n",
        "\n",
        "def xyplot(x_vals,y_vals,name):\n",
        "    x_vals = x_vals.detach().numpy() # we can't directly use var.numpy() because varibles might \n",
        "    y_vals = y_vals.detach().numpy() # already required grad.,thus using var.detach().numpy() \n",
        "    plt.plot(x_vals,y_vals) \n",
        "    plt.xlabel('x')\n",
        "    plt.ylabel(name+'(x)')"
      ],
      "execution_count": 0,
      "outputs": []
    },
    {
      "cell_type": "markdown",
      "metadata": {
        "id": "CSWo97pJQHfG",
        "colab_type": "text"
      },
      "source": [
        "Since relu is commomly used as activation function, PyTorch supports\n",
        "the `relu` function as a basic native operator.\n",
        "As you can see, the activation function is piece-wise linear.\n"
      ]
    },
    {
      "cell_type": "code",
      "metadata": {
        "id": "IvKuNcq1QHfG",
        "colab_type": "code",
        "outputId": "1cadc819-6958-48b3-b4f0-5ffa75215ab7",
        "colab": {
          "base_uri": "https://localhost:8080/",
          "height": 279
        }
      },
      "source": [
        "x = Variable(torch.arange(-8.0,8.0,0.1,dtype=torch.float32).reshape(int(16/0.1),1), requires_grad=True)\n",
        "y = torch.nn.functional.relu(x)\n",
        "xyplot(x,y,'relu')"
      ],
      "execution_count": 0,
      "outputs": [
        {
          "output_type": "display_data",
          "data": {
            "image/png": "[encoded data removed]",
            "text/plain": [
              "<Figure size 432x288 with 1 Axes>"
            ]
          },
          "metadata": {
            "tags": [],
            "needs_background": "light"
          }
        }
      ]
    },
    {
      "cell_type": "markdown",
      "metadata": {
        "id": "rAzWGZdeQHfJ",
        "colab_type": "text"
      },
      "source": [
        "When the input is negative, the derivative of ReLU function is 0\n",
        "and when the input is positive, the derivative of ReLU function is 1.\n",
        "Note that the ReLU function is not differentiable\n",
        "when the input takes value precisely equal to  0.\n",
        "In these cases, we go with the left-hand-side (LHS) derivative\n",
        "and say that the derivative is 0 when the input is 0.\n",
        "We can get away with this because the input may never actually be zero.\n",
        "There's an old adage that if subtle boundary conditions matter,\n",
        "we are probably doing (*real*) mathematics, not engineering.\n",
        "That conventional wisdom may apply here.\n",
        "See the derivative of the ReLU function plotted below.\n",
        "\n",
        "When we use .backward(), by default it is .backward(torch.Tensor([1])).This is useful when we are dealing with single scalar input.But here we are dealing with a vector input so we have to use this snippet."
      ]
    },
    {
      "cell_type": "code",
      "metadata": {
        "id": "UNiVPTVjQHfJ",
        "colab_type": "code",
        "outputId": "a2b9c31f-39a2-4109-b3e2-1662f6b19df5",
        "colab": {
          "base_uri": "https://localhost:8080/",
          "height": 279
        }
      },
      "source": [
        "y.backward(torch.ones_like(x), retain_graph=True)\n",
        "xyplot(x,x.grad,\"grad of relu\")"
      ],
      "execution_count": 0,
      "outputs": [
        {
          "output_type": "display_data",
          "data": {
            "image/png": "[encoded data removed]",
            "text/plain": [
              "<Figure size 432x288 with 1 Axes>"
            ]
          },
          "metadata": {
            "tags": [],
            "needs_background": "light"
          }
        }
      ]
    },
    {
      "cell_type": "markdown",
      "metadata": {
        "id": "pry_-qSpQHfM",
        "colab_type": "text"
      },
      "source": [
        "Note that there are many variants to the ReLU function, such as the parameterized ReLU (pReLU) of [He et al., 2015](https://arxiv.org/abs/1502.01852). This variation adds a linear term to the ReLU, so some information still gets through, even when the argument is negative.\n",
        "\n",
        "$$\\mathrm{pReLU}(x) = \\max(0, x) + \\alpha \\min(0, x)$$\n",
        "\n",
        "The reason for using the ReLU is that its derivatives are particularly well behaved - either they vanish or they just let the argument through. This makes optimization better behaved and it reduces the issue of the vanishing gradient problem (more on this later).\n",
        "\n",
        "### Sigmoid Function\n",
        "\n",
        "The sigmoid function transforms its inputs which take values in $\\mathbb{R}$ to the interval $(0,1)$.\n",
        "For that reason, the sigmoid is often called a *squashing* function:\n",
        "it squashes any input in the range (-inf, inf)\n",
        "to some value in the range (0,1).\n",
        "\n",
        "$$\\mathrm{sigmoid}(x) = \\frac{1}{1 + \\exp(-x)}.$$\n",
        "\n",
        "In the earliest neural networks, scientists\n",
        "were interested in modeling biological neurons\n",
        "which either *fire* or *don't fire*.\n",
        "Thus the pioneers of this field, going all the way back to McCulloch and Pitts in the 1940s, were focused on thresholding units.\n",
        "A thresholding function takes either value $0$\n",
        "(if the input is below the threshold)\n",
        "or value $1$ (if the input exceeds the threshold)\n",
        "\n",
        "\n",
        "When attention shifted to gradient based learning,\n",
        "the sigmoid function was a natural choice\n",
        "because it is a smooth, differentiable approximation to a thresholding unit.\n",
        "Sigmoids are still common as activation functions on the output units,\n",
        "when we want to interpret the outputs as probabilities\n",
        "for binary classification problems\n",
        "(you can think of the sigmoid as a special case of the softmax)\n",
        "but the sigmoid has mostly been replaced by the simpler and easier to train ReLU for most use in hidden layers.\n",
        "In the \"Recurrent Neural Network\" chapter, we will describe\n",
        "how sigmoid units can be used to control\n",
        "the flow of information in a neural network\n",
        "thanks to its capacity to transform the value range between 0 and 1.\n",
        "\n",
        "See the sigmoid function plotted below.\n",
        "When the input is close to 0, the sigmoid function\n",
        "approaches a linear transformation.\n"
      ]
    },
    {
      "cell_type": "code",
      "metadata": {
        "id": "IuN7nVQoQHfN",
        "colab_type": "code",
        "outputId": "917b1325-5663-43b5-da13-cd568125a226",
        "colab": {
          "base_uri": "https://localhost:8080/",
          "height": 279
        }
      },
      "source": [
        "x = Variable(torch.arange(-8.0,8.0,0.1, dtype=torch.float32).reshape(int(16/0.1),1), requires_grad=True)\n",
        "y = torch.sigmoid(x)\n",
        "xyplot(x,y,'sigmoid')"
      ],
      "execution_count": 0,
      "outputs": [
        {
          "output_type": "display_data",
          "data": {
            "image/png": "[encoded data removed]",
            "text/plain": [
              "<Figure size 432x288 with 1 Axes>"
            ]
          },
          "metadata": {
            "tags": [],
            "needs_background": "light"
          }
        }
      ]
    },
    {
      "cell_type": "markdown",
      "metadata": {
        "id": "aTyTY-_AQHfP",
        "colab_type": "text"
      },
      "source": [
        "The derivative of sigmoid function is given by the following equation:\n",
        "\n",
        "$$\\frac{d}{dx} \\mathrm{sigmoid}(x) = \\frac{\\exp(-x)}{(1 + \\exp(-x))^2} = \\mathrm{sigmoid}(x)\\left(1-\\mathrm{sigmoid}(x)\\right).$$\n",
        "\n",
        "\n",
        "The derivative of sigmoid function is plotted below.\n",
        "Note that when the input is 0, the derivative of the sigmoid function\n",
        "reaches a maximum of 0.25. As the input diverges from 0 in either direction, the derivative approaches 0.\n"
      ]
    },
    {
      "cell_type": "code",
      "metadata": {
        "id": "BR5YyvIZQHfQ",
        "colab_type": "code",
        "outputId": "1fbea752-779d-43d7-94ed-25f0fa16f7ee",
        "colab": {
          "base_uri": "https://localhost:8080/",
          "height": 279
        }
      },
      "source": [
        "y.backward(torch.ones_like(x), retain_graph=True)\n",
        "xyplot(x,x.grad,'grad of sigmoid')"
      ],
      "execution_count": 0,
      "outputs": [
        {
          "output_type": "display_data",
          "data": {
            "image/png": "[encoded data removed]",
            "text/plain": [
              "<Figure size 432x288 with 1 Axes>"
            ]
          },
          "metadata": {
            "tags": [],
            "needs_background": "light"
          }
        }
      ]
    },
    {
      "cell_type": "markdown",
      "metadata": {
        "id": "kQSTzchhQHfS",
        "colab_type": "text"
      },
      "source": [
        "### Tanh Function\n",
        "\n",
        "Like the sigmoid function, the tanh (Hyperbolic Tangent)\n",
        "function also squashes its inputs,\n",
        "transforms them into elements on the interval between -1 and 1:\n",
        "\n",
        "$$\\text{tanh}(x) = \\frac{1 - \\exp(-2x)}{1 + \\exp(-2x)}.$$\n",
        "\n",
        "We plot the tanh function blow. Note that as the input nears 0, the tanh function approaches a linear transformation. Although the shape of the function is similar to the sigmoid function, the tanh function exhibits point symmetry about the origin of the coordinate system.\n"
      ]
    },
    {
      "cell_type": "code",
      "metadata": {
        "id": "jjFZxPHnQHfS",
        "colab_type": "code",
        "outputId": "01ae7858-d15a-48fa-92f2-96182cb5c8e5",
        "colab": {
          "base_uri": "https://localhost:8080/",
          "height": 279
        }
      },
      "source": [
        "x = Variable(torch.arange(-8.0,8.0,0.1, dtype=torch.float32).reshape(int(16/0.1),1), requires_grad=True)\n",
        "y = torch.tanh(x)\n",
        "xyplot(x,y,\"tanh\")"
      ],
      "execution_count": 0,
      "outputs": [
        {
          "output_type": "display_data",
          "data": {
            "image/png": "[encoded data removed]",
            "text/plain": [
              "<Figure size 432x288 with 1 Axes>"
            ]
          },
          "metadata": {
            "tags": [],
            "needs_background": "light"
          }
        }
      ]
    },
    {
      "cell_type": "markdown",
      "metadata": {
        "id": "OFgSsaFgQ6yz",
        "colab_type": "text"
      },
      "source": [
        "The derivative of the Tanh function is:\n",
        "\n",
        "$$\\frac{d}{dx} \\mathrm{tanh}(x) = 1 - \\mathrm{tanh}^2(x).$$\n",
        "\n",
        "The derivative of tanh function is plotted below.\n",
        "As the input nears 0,\n",
        "the derivative of the tanh function approaches a maximum of 1.\n",
        "And as we saw with the sigmoid function,\n",
        "as the input moves away from 0 in either direction,\n",
        "the derivative of the tanh function approaches 0."
      ]
    },
    {
      "cell_type": "code",
      "metadata": {
        "id": "ASwhYKA2Q6y0",
        "colab_type": "code",
        "outputId": "3a138309-a4c0-42ca-c841-f12ac5ded959",
        "colab": {
          "base_uri": "https://localhost:8080/",
          "height": 279
        }
      },
      "source": [
        "y.backward(torch.ones_like(x), retain_graph=True)\n",
        "xyplot(x,x.grad,\"grad of tanh\")"
      ],
      "execution_count": 0,
      "outputs": [
        {
          "output_type": "display_data",
          "data": {
            "image/png": "[encoded data removed]",
            "text/plain": [
              "<Figure size 432x288 with 1 Axes>"
            ]
          },
          "metadata": {
            "tags": [],
            "needs_background": "light"
          }
        }
      ]
    },
    {
      "cell_type": "markdown",
      "metadata": {
        "id": "SCfIunp_Q6y2",
        "colab_type": "text"
      },
      "source": [
        "In summary, we now know how to incorporate nonlinearities\n",
        "to build expressive multilayer neural network architectures.\n",
        "As a side note, your knowledge now already\n",
        "puts you in command of the state of the art in deep learning, circa 1990.\n",
        "In fact, you have an advantage over anyone working the 1990s,\n",
        "because you can leverage powerful open-source deep learning frameworks\n",
        "to build models rapidly, using only a few lines of code.\n",
        "Previously, getting these nets training\n",
        "required researchers to code up thousands of lines of C and Fortran.\n",
        "\n",
        "## Summary\n",
        "\n",
        "* The multilayer perceptron adds one or multiple fully-connected hidden layers between the output and input layers and transforms the output of the hidden layer via an activation function.\n",
        "* Commonly-used activation functions include the ReLU function, the sigmoid function, and the tanh function."
      ]
    },
    {
      "cell_type": "markdown",
      "metadata": {
        "id": "yoek_AxoQiNg",
        "colab_type": "text"
      },
      "source": [
        "# Concise Implementation of Multilayer Perceptron"
      ]
    },
    {
      "cell_type": "markdown",
      "metadata": {
        "id": "OIOiaG8uQiNh",
        "colab_type": "text"
      },
      "source": [
        "Now that we learned how multilayer perceptrons (MLPs) work in theory, let’s implement them. We begin, as always, by\n",
        "importing modules."
      ]
    },
    {
      "cell_type": "code",
      "metadata": {
        "id": "UmcJn4vAQiNi",
        "colab_type": "code",
        "colab": {}
      },
      "source": [
        "import sys\n",
        "sys.path.insert(0, '..')\n",
        "import torch\n",
        "import torchvision\n",
        "from torchvision import transforms\n",
        "import torch.nn as nn\n",
        "import torch.nn.functional as F\n",
        "import torch.optim as optim"
      ],
      "execution_count": 0,
      "outputs": []
    },
    {
      "cell_type": "markdown",
      "metadata": {
        "id": "yIdS8IiSQiNl",
        "colab_type": "text"
      },
      "source": [
        "# The Model"
      ]
    },
    {
      "cell_type": "markdown",
      "metadata": {
        "id": "bC4oND-WQiNm",
        "colab_type": "text"
      },
      "source": [
        "The only difference from our softmax regression implementation is that we add two Dense (fully-connected) layers\n",
        "instead of one. The first is our hidden layer, which has 256 hidden units and uses the ReLU activation function."
      ]
    },
    {
      "cell_type": "code",
      "metadata": {
        "id": "E50DJ-lBQiNm",
        "colab_type": "code",
        "outputId": "386c65ed-85ba-46a9-906a-ddeb387ed4a2",
        "colab": {
          "base_uri": "https://localhost:8080/",
          "height": 134
        }
      },
      "source": [
        "class Net(nn.Module):\n",
        "    def __init__(self, num_inputs = 784, num_outputs = 10, num_hiddens = 256, is_training = True):\n",
        "        super(Net, self).__init__()\n",
        "        \n",
        "        self.num_inputs = num_inputs\n",
        "        self.num_outputs = num_outputs\n",
        "        self.num_hiddens = num_hiddens\n",
        "        \n",
        "        self.layer1 = nn.Sequential(\n",
        "            nn.Linear(num_inputs, num_hiddens),\n",
        "            nn.ReLU())\n",
        "        self.layer2 = nn.Linear(num_hiddens, num_outputs)\n",
        "\n",
        "    def forward(self, X):\n",
        "        X = X.reshape((-1, self.num_inputs))\n",
        "        H1 = self.layer1(X)\n",
        "        out = self.layer2(H1)\n",
        "        return out\n",
        "\n",
        "def init_weights(m):\n",
        "    if type(m) == nn.Linear:\n",
        "        torch.nn.init.normal_(m.weight, std=0.01)        \n",
        "        m.bias.data.fill_(0.01)\n",
        "\n",
        "# Create an instance of the MLP\n",
        "net = Net()\n",
        "net.apply(init_weights)\n",
        "print(net) "
      ],
      "execution_count": 0,
      "outputs": [
        {
          "output_type": "stream",
          "text": [
            "Net(\n",
            "  (layer1): Sequential(\n",
            "    (0): Linear(in_features=784, out_features=256, bias=True)\n",
            "    (1): ReLU()\n",
            "  )\n",
            "  (layer2): Linear(in_features=256, out_features=10, bias=True)\n",
            ")\n"
          ],
          "name": "stdout"
        }
      ]
    },
    {
      "cell_type": "markdown",
      "metadata": {
        "id": "qAAPqtba1s5Q",
        "colab_type": "text"
      },
      "source": [
        "Load the Fashion MNIST Dataset."
      ]
    },
    {
      "cell_type": "code",
      "metadata": {
        "id": "n8KUx8Zs1ZdJ",
        "colab_type": "code",
        "outputId": "91e04856-8706-42c3-8a46-99bbf768e533",
        "colab": {
          "base_uri": "https://localhost:8080/",
          "height": 383,
          "referenced_widgets": [
            "d234f47b1b2941b8bc0fd941df65d4ab",
            "99b9eea7cf54427d9b197660a430f68d",
            "ed0497a420364e01b215df934139c6d9",
            "973a4c38bae64eb49be08ebb803f102f",
            "919227776db94af8913020b4b92b82fa",
            "bb742a1622974fb89414389699694950",
            "1d9ca606eb344acc9fd5754734c2f605",
            "a372663e245841c2917b0e11992ea5a4",
            "ccb3f0b489cb4f50a19841fc48a9df62",
            "e943dfb5fb294116a9d9b8cf872e347a",
            "1d820ad29e4948f090589603169cf4e2",
            "0a71738ef4ff49ed89a57ac7d13ec2dd",
            "9f3bcb845ad142e9b1c411a49d27f1b6",
            "74a01964c1ea4afd86d455a7495c9252",
            "25cf1cd3467940da975284e63d98676c",
            "5a9d2eaaff66477b8a85fecd49c2651d",
            "aa08981b9bb846acaab66aeca041599a",
            "6e95ae1c533544b2be826724cc59bffd",
            "d4cbf49f63cd4778959f681b6df6976e",
            "ea4cc359a8b9411fb3bb54b44b498487",
            "fdfdc92c3d7f49fa85af130561ee39b1",
            "18abfc5abc9140bb992d8fc492037eeb",
            "c819e72911ea4c779d39d5ca2b5f8ce5",
            "d2d5d58fb597419abb4a23112dd8feb7",
            "f7385ca9f4fb4bd98ec00ae3048ecbe0",
            "56b38496b0a94ebdb03a6fc62f26ef6d",
            "c215cbffd3fa45b99f201bbfb7d7bad1",
            "fdebc1050faa4e3fb573b775ba0f76b2",
            "b99c4a69a7834b71a63bcd661d750c6f",
            "98cdc065e7df415c9c8ee00b1e9e205a",
            "c61e6cad9a9349d4bce2af54588c73ac",
            "91e3cf4e54c74ccea3e454e02f37bd89"
          ]
        }
      },
      "source": [
        "# By default pytorch torchvision datasets are of type PIL.\n",
        "# Define a transform \"trans\" to change the PIL to Tensor format.\n",
        "trans = transforms.ToTensor() \n",
        "\n",
        "mnist_train = torchvision.datasets.FashionMNIST(root=\"./\", train=True, transform=trans, target_transform=None, download=True)\n",
        "mnist_test = torchvision.datasets.FashionMNIST(root=\"./\", train=False, transform=trans, target_transform=None, download=True)"
      ],
      "execution_count": 0,
      "outputs": [
        {
          "output_type": "stream",
          "text": [
            "Downloading http://fashion-mnist.s3-website.eu-central-1.amazonaws.com/train-images-idx3-ubyte.gz to ./FashionMNIST/raw/train-images-idx3-ubyte.gz\n"
          ],
          "name": "stdout"
        },
        {
          "output_type": "display_data",
          "data": {
            "application/vnd.jupyter.widget-view+json": {
              "model_id": "d234f47b1b2941b8bc0fd941df65d4ab",
              "version_minor": 0,
              "version_major": 2
            },
            "text/plain": [
              "HBox(children=(FloatProgress(value=1.0, bar_style='info', max=1.0), HTML(value='')))"
            ]
          },
          "metadata": {
            "tags": []
          }
        },
        {
          "output_type": "stream",
          "text": [
            "Extracting ./FashionMNIST/raw/train-images-idx3-ubyte.gz to ./FashionMNIST/raw\n",
            "Downloading http://fashion-mnist.s3-website.eu-central-1.amazonaws.com/train-labels-idx1-ubyte.gz to ./FashionMNIST/raw/train-labels-idx1-ubyte.gz\n"
          ],
          "name": "stdout"
        },
        {
          "output_type": "display_data",
          "data": {
            "application/vnd.jupyter.widget-view+json": {
              "model_id": "ccb3f0b489cb4f50a19841fc48a9df62",
              "version_minor": 0,
              "version_major": 2
            },
            "text/plain": [
              "HBox(children=(FloatProgress(value=1.0, bar_style='info', max=1.0), HTML(value='')))"
            ]
          },
          "metadata": {
            "tags": []
          }
        },
        {
          "output_type": "stream",
          "text": [
            "Extracting ./FashionMNIST/raw/train-labels-idx1-ubyte.gz to ./FashionMNIST/raw\n",
            "Downloading http://fashion-mnist.s3-website.eu-central-1.amazonaws.com/t10k-images-idx3-ubyte.gz to ./FashionMNIST/raw/t10k-images-idx3-ubyte.gz\n"
          ],
          "name": "stdout"
        },
        {
          "output_type": "display_data",
          "data": {
            "application/vnd.jupyter.widget-view+json": {
              "model_id": "aa08981b9bb846acaab66aeca041599a",
              "version_minor": 0,
              "version_major": 2
            },
            "text/plain": [
              "HBox(children=(FloatProgress(value=1.0, bar_style='info', max=1.0), HTML(value='')))"
            ]
          },
          "metadata": {
            "tags": []
          }
        },
        {
          "output_type": "stream",
          "text": [
            "Extracting ./FashionMNIST/raw/t10k-images-idx3-ubyte.gz to ./FashionMNIST/raw\n",
            "Downloading http://fashion-mnist.s3-website.eu-central-1.amazonaws.com/t10k-labels-idx1-ubyte.gz to ./FashionMNIST/raw/t10k-labels-idx1-ubyte.gz\n",
            "\n",
            "\n"
          ],
          "name": "stdout"
        },
        {
          "output_type": "display_data",
          "data": {
            "application/vnd.jupyter.widget-view+json": {
              "model_id": "f7385ca9f4fb4bd98ec00ae3048ecbe0",
              "version_minor": 0,
              "version_major": 2
            },
            "text/plain": [
              "HBox(children=(FloatProgress(value=1.0, bar_style='info', max=1.0), HTML(value='')))"
            ]
          },
          "metadata": {
            "tags": []
          }
        },
        {
          "output_type": "stream",
          "text": [
            "Extracting ./FashionMNIST/raw/t10k-labels-idx1-ubyte.gz to ./FashionMNIST/raw\n",
            "Processing...\n",
            "Done!\n"
          ],
          "name": "stdout"
        },
        {
          "output_type": "stream",
          "text": [
            "/pytorch/torch/csrc/utils/tensor_numpy.cpp:141: UserWarning: The given NumPy array is not writeable, and PyTorch does not support non-writeable tensors. This means you can write to the underlying (supposedly non-writeable) NumPy array using the tensor. You may want to copy the array to protect its data or make it writeable before converting it to a tensor. This type of warning will be suppressed for the rest of this program.\n"
          ],
          "name": "stderr"
        }
      ]
    },
    {
      "cell_type": "markdown",
      "metadata": {
        "id": "buS3TR-4AWHv",
        "colab_type": "text"
      },
      "source": [
        "Create the Data Loaders for the training and test data"
      ]
    },
    {
      "cell_type": "code",
      "metadata": {
        "id": "rJGCjIZUAIL5",
        "colab_type": "code",
        "colab": {}
      },
      "source": [
        "batch_size = 256\n",
        "if sys.platform.startswith('win'):\n",
        "    # set 0 for windows\n",
        "    # 0 means no additional processes are needed to speed up the reading of data\n",
        "    num_workers = 0\n",
        "else:\n",
        "    num_workers = 4\n",
        "\n",
        "train_iter = DataLoader(mnist_train, batch_size, shuffle=True, num_workers=num_workers)\n",
        "test_iter = DataLoader(mnist_test, batch_size, shuffle=False, num_workers=num_workers)"
      ],
      "execution_count": 0,
      "outputs": []
    },
    {
      "cell_type": "markdown",
      "metadata": {
        "id": "4NZ6Of2G59zg",
        "colab_type": "text"
      },
      "source": [
        "Set the Model Configurations: Number of epochs, learning rate (lr) and the batch-size. \n",
        "Defining the Loss (criterion)"
      ]
    },
    {
      "cell_type": "code",
      "metadata": {
        "id": "CWF0e_MTQiNq",
        "colab_type": "code",
        "colab": {}
      },
      "source": [
        "num_epochs, lr, batch_size = 10, 0.5, 256\n",
        "criterion = nn.CrossEntropyLoss()\n",
        "optimizer = torch.optim.SGD(net.parameters(), lr = lr)"
      ],
      "execution_count": 0,
      "outputs": []
    },
    {
      "cell_type": "markdown",
      "metadata": {
        "id": "IJe8h219QiNq",
        "colab_type": "text"
      },
      "source": [
        "Training the model follows the exact same steps as in our softmax regression implementation."
      ]
    },
    {
      "cell_type": "code",
      "metadata": {
        "id": "sL8Sbb0skTum",
        "colab_type": "code",
        "outputId": "347fce05-c472-48e0-d03a-5abc354b3039",
        "colab": {
          "base_uri": "https://localhost:8080/",
          "height": 185
        }
      },
      "source": [
        "for epoch in range(num_epochs): \n",
        "  train_loss_epoch = 0.0\n",
        "  net.train()\n",
        "  for X, y in train_iter:  \n",
        "    y_hat = net(X)\n",
        "    l = criterion(y_hat, y)\n",
        "    train_loss_epoch += l\n",
        "    optimizer.zero_grad() \n",
        "    l.backward() \n",
        "    optimizer.step() \n",
        "  train_loss_epoch /= len(train_iter)\n",
        "  \n",
        "  net.eval()\n",
        "  with torch.no_grad():\n",
        "    test_loss_epoch = 0.0\n",
        "    for X_test, y_test in test_iter:\n",
        "      b_l = criterion(net(X_test), y_test) \n",
        "      test_loss_epoch += b_l\n",
        "    test_loss_epoch /= len(test_iter)  \n",
        "  print('epoch {}, train loss {}, test loss {}'.format(epoch+1, train_loss_epoch, test_loss_epoch)) "
      ],
      "execution_count": 0,
      "outputs": [
        {
          "output_type": "stream",
          "text": [
            "epoch 1, train loss 0.7822871208190918, test loss 0.6922860145568848\n",
            "epoch 2, train loss 0.48273760080337524, test loss 0.5376869440078735\n",
            "epoch 3, train loss 0.42822298407554626, test loss 0.5391448140144348\n",
            "epoch 4, train loss 0.39352673292160034, test loss 0.44217801094055176\n",
            "epoch 5, train loss 0.3668493330478668, test loss 0.3737078309059143\n",
            "epoch 6, train loss 0.3480774760246277, test loss 0.49589842557907104\n",
            "epoch 7, train loss 0.3350205421447754, test loss 0.40118488669395447\n",
            "epoch 8, train loss 0.3238588571548462, test loss 0.36858826875686646\n",
            "epoch 9, train loss 0.30935660004615784, test loss 0.4160229563713074\n",
            "epoch 10, train loss 0.3025900423526764, test loss 0.3861441910266876\n"
          ],
          "name": "stdout"
        }
      ]
    },
    {
      "cell_type": "markdown",
      "metadata": {
        "id": "UZ8W4KWk7wiN",
        "colab_type": "text"
      },
      "source": [
        "**Exercise:** In the network we created above, we have used the ReLU as an activation function for the first layer. Try out different activation functions from the ones we discussed earlier in this notebook. (Keep all other parameters and hyperparameters constant). In the function below, return the value of the test *accuracy* that corresponds to the activation function you found to produce the best result. (*Hint:* You will need to recreate the network from above and then evaluate one activation function each time)."
      ]
    },
    {
      "cell_type": "code",
      "metadata": {
        "id": "e_65InRKkGNL",
        "colab_type": "code",
        "outputId": "433219ee-86aa-469d-eb0b-36fe2fc95201",
        "colab": {
          "base_uri": "https://localhost:8080/",
          "height": 134
        }
      },
      "source": [
        "    class Net1(nn.Module):\n",
        "        def __init__(self, num_inputs = 784, num_outputs = 10, num_hiddens = 256, is_training = True):\n",
        "            super(Net1, self).__init__()\n",
        "            \n",
        "            self.num_inputs = num_inputs\n",
        "            self.num_outputs = num_outputs\n",
        "            self.num_hiddens = num_hiddens\n",
        "           \n",
        "\n",
        "            self.layer1 = nn.Sequential(\n",
        "                nn.Linear(num_inputs, num_hiddens),\n",
        "                nn.ReLU()\n",
        "                )\n",
        "            self.layer2 = nn.Linear(num_hiddens, num_outputs)\n",
        "\n",
        "        def forward(self, X):\n",
        "            X = X.reshape((-1, self.num_inputs))\n",
        "            H1 = self.layer1(X)\n",
        "            #H2 = torch.tanh(H1)\n",
        "            out = self.layer2(H1)\n",
        "            return out\n",
        "\n",
        "    def init_weights(m):\n",
        "     if type(m) == nn.Linear:\n",
        "        torch.nn.init.normal_(m.weight, std=0.01)        \n",
        "        m.bias.data.fill_(0.01)\n",
        "\n",
        "    # Create an instance of the MLP\n",
        "   \n",
        "    net1 = Net1()\n",
        "    net1.apply(init_weights)\n",
        "    print(net1) \n",
        "\n",
        "    "
      ],
      "execution_count": 0,
      "outputs": [
        {
          "output_type": "stream",
          "text": [
            "Net1(\n",
            "  (layer1): Sequential(\n",
            "    (0): Linear(in_features=784, out_features=256, bias=True)\n",
            "    (1): ReLU()\n",
            "  )\n",
            "  (layer2): Linear(in_features=256, out_features=10, bias=True)\n",
            ")\n"
          ],
          "name": "stdout"
        }
      ]
    },
    {
      "cell_type": "code",
      "metadata": {
        "id": "yY08F__9rFMr",
        "colab_type": "code",
        "outputId": "74b3a1b2-d8ce-4987-c7c9-caa9deeae834",
        "colab": {
          "base_uri": "https://localhost:8080/",
          "height": 185
        }
      },
      "source": [
        "    net1.apply(init_weights) # this line is to reset the weights of the network\n",
        "    num_epochs, lr, batch_size = 10, 0.5, 256\n",
        "    criterion = nn.CrossEntropyLoss()\n",
        "    optimizer = torch.optim.SGD(net1.parameters(), lr = lr)\n",
        "   \n",
        "    for epoch in range(num_epochs): \n",
        "      train_loss_epoch = 0.0\n",
        "      total = 0\n",
        "      correct = 0\n",
        "      net1.train()\n",
        "      for X, y in train_iter:  \n",
        "        y_hat = net1(X)\n",
        "        l = criterion(y_hat, y)\n",
        "        train_loss_epoch += l\n",
        "        total += y.size(0)\n",
        "        correct += (y_hat.argmax(dim=1) == y).sum().item()\n",
        "        optimizer.zero_grad() \n",
        "        l.backward() \n",
        "        optimizer.step()\n",
        "      train_accuracy = correct/total\n",
        "      train_loss_epoch /= len(train_iter)\n",
        "    \n",
        "      net1.eval()\n",
        "      with torch.no_grad():\n",
        "        test_loss_epoch = 0.0\n",
        "        total_test = 0\n",
        "        correct_test = 0\n",
        "        for X_test, y_test in test_iter:\n",
        "          y_test_hat = net1(X_test)\n",
        "          b_l = criterion(y_test_hat, y_test) \n",
        "          test_loss_epoch += b_l\n",
        "          total_test += y_test.size(0)\n",
        "          correct_test += (y_test_hat.argmax(dim=1) == y_test).sum().item() \n",
        "        test_loss_epoch /= len(test_iter)  \n",
        "        test_accuracy = correct_test/total_test\n",
        "      print('epoch {}, train loss {}, train aacuracy{}, test loss {}, test accuracy{}'.format(epoch+1, train_loss_epoch,train_accuracy ,test_loss_epoch,test_accuracy)) "
      ],
      "execution_count": 0,
      "outputs": [
        {
          "output_type": "stream",
          "text": [
            "epoch 1, train loss 0.8138970732688904, train aacuracy0.6993333333333334, test loss 0.5163170099258423, test accuracy0.8062\n",
            "epoch 2, train loss 0.49108216166496277, train aacuracy0.8182, test loss 0.45148783922195435, test accuracy0.8314\n",
            "epoch 3, train loss 0.4282894730567932, train aacuracy0.84195, test loss 0.4926125109195709, test accuracy0.8059\n",
            "epoch 4, train loss 0.3933418393135071, train aacuracy0.8568833333333333, test loss 0.47005948424339294, test accuracy0.8338\n",
            "epoch 5, train loss 0.36898308992385864, train aacuracy0.86295, test loss 0.41244983673095703, test accuracy0.85\n",
            "epoch 6, train loss 0.3492032289505005, train aacuracy0.8711666666666666, test loss 0.39769840240478516, test accuracy0.8488\n",
            "epoch 7, train loss 0.33800187706947327, train aacuracy0.8744833333333333, test loss 0.3902105689048767, test accuracy0.8589\n",
            "epoch 8, train loss 0.3260251581668854, train aacuracy0.8775833333333334, test loss 0.36910778284072876, test accuracy0.8668\n",
            "epoch 9, train loss 0.3176521062850952, train aacuracy0.8812666666666666, test loss 0.3775237798690796, test accuracy0.853\n",
            "epoch 10, train loss 0.3035198152065277, train aacuracy0.8882666666666666, test loss 0.4254686236381531, test accuracy0.8436\n"
          ],
          "name": "stdout"
        }
      ]
    },
    {
      "cell_type": "code",
      "metadata": {
        "id": "LzzBoFKFqlDx",
        "colab_type": "code",
        "colab": {}
      },
      "source": [
        "def best_accuracy_from_activation_function(train_iter, test_iter):\n",
        "  test_accuracy = 0.0\n",
        "  ## write your code here\n",
        "  class Net1(nn.Module):\n",
        "        def __init__(self, num_inputs = 784, num_outputs = 10, num_hiddens = 256, is_training = True):\n",
        "            super(Net1, self).__init__()\n",
        "            \n",
        "            self.num_inputs = num_inputs\n",
        "            self.num_outputs = num_outputs\n",
        "            self.num_hiddens = num_hiddens\n",
        "           \n",
        "\n",
        "            self.layer1 = nn.Sequential(\n",
        "                nn.Linear(num_inputs, num_hiddens),\n",
        "                nn.PReLU(256)\n",
        "                )\n",
        "            self.layer2 = nn.Linear(num_hiddens, num_outputs)\n",
        "\n",
        "        def forward(self, X):\n",
        "            X = X.reshape((-1, self.num_inputs))\n",
        "            H1 = self.layer1(X)\n",
        "            #H2 = torch.tanh(H1)\n",
        "            out = self.layer2(H1)\n",
        "            return out\n",
        "\n",
        "  def init_weights(m):\n",
        "     if type(m) == nn.Linear:\n",
        "        torch.nn.init.normal_(m.weight, std=0.01)        \n",
        "        m.bias.data.fill_(0.01)\n",
        "\n",
        "    # Create an instance of the MLP\n",
        "   \n",
        "  net1 = Net1()\n",
        "  net1.apply(init_weights)\n",
        "  net1.apply(init_weights) # this line is to reset the weights of the network\n",
        "  num_epochs, lr, batch_size = 10, 0.5, 256\n",
        "  criterion = nn.CrossEntropyLoss()\n",
        "  optimizer = torch.optim.SGD(net1.parameters(), lr = lr)\n",
        "   \n",
        "  for epoch in range(num_epochs): \n",
        "      train_loss_epoch = 0.0\n",
        "      total = 0\n",
        "      correct = 0\n",
        "      net1.train()\n",
        "      for X, y in train_iter:  \n",
        "        y_hat = net1(X)\n",
        "        l = criterion(y_hat, y)\n",
        "        train_loss_epoch += l\n",
        "        total += y.size(0)\n",
        "        correct += (y_hat.argmax(dim=1) == y).sum().item()\n",
        "        optimizer.zero_grad() \n",
        "        l.backward() \n",
        "        optimizer.step()\n",
        "      train_accuracy = correct/total\n",
        "      train_loss_epoch /= len(train_iter)\n",
        "    \n",
        "      net1.eval()\n",
        "      with torch.no_grad():\n",
        "        test_loss_epoch = 0.0\n",
        "        total_test = 0\n",
        "        correct_test = 0\n",
        "        for X_test, y_test in test_iter:\n",
        "          y_test_hat = net1(X_test)\n",
        "          b_l = criterion(y_test_hat, y_test) \n",
        "          test_loss_epoch += b_l\n",
        "          total_test += y_test.size(0)\n",
        "          correct_test += (y_test_hat.argmax(dim=1) == y_test).sum().item() \n",
        "        test_loss_epoch /= len(test_iter)  \n",
        "        test_accuracy = correct_test/total_test\n",
        "      #print('epoch {}, train loss {}, train aacuracy{}, test loss {}, test accuracy{}'.format(epoch+1, train_loss_epoch,train_accuracy ,test_loss_epoch,test_accuracy)) \n",
        " \n",
        "  \n",
        "  ## ReLu : 0.8436\n",
        "  #test_accuracy = 0.8631   \n",
        "  ## PreLu : 0.8631   \n",
        "  ## sigmoid: 0.8502\n",
        "  ## tanh: 0.8544\n",
        "  ## end of code\n",
        "  return test_accuracy\n",
        "\n",
        " "
      ],
      "execution_count": 0,
      "outputs": []
    },
    {
      "cell_type": "code",
      "metadata": {
        "id": "zwwbQxrZ7kCv",
        "colab_type": "code",
        "outputId": "2b9c1aeb-d9b2-4f01-8403-12cbb6f5fbaa",
        "colab": {
          "base_uri": "https://localhost:8080/",
          "height": 34
        }
      },
      "source": [
        " best_accuracy_from_activation_function(train_iter, test_iter)"
      ],
      "execution_count": 0,
      "outputs": [
        {
          "output_type": "execute_result",
          "data": {
            "text/plain": [
              "0.8559"
            ]
          },
          "metadata": {
            "tags": []
          },
          "execution_count": 46
        }
      ]
    },
    {
      "cell_type": "markdown",
      "metadata": {
        "id": "-jE8o5-ssq8S",
        "colab_type": "text"
      },
      "source": [
        "# Model Selection, Underfitting and Overfitting"
      ]
    },
    {
      "cell_type": "markdown",
      "metadata": {
        "id": "Cz_3I3ihshGz",
        "colab_type": "text"
      },
      "source": [
        "## Model Selection\n",
        "\n",
        "In machine learning, we usually select our final model\n",
        "after evaluating several candidate models.\n",
        "This process is called model selection.\n",
        "Sometimes the models subject to comparison\n",
        "are fundamentally different in nature\n",
        "(say, decision trees vs linear models).\n",
        "At other times, we are comparing\n",
        "members of the same class of models\n",
        "that have been trained with different hyperparameter settings.\n",
        "\n",
        "With multilayer perceptrons for example,\n",
        "we may wish to compare models with\n",
        "different numbers of hidden layers,\n",
        "different numbers of hidden units,\n",
        "and various choices of the activation functions\n",
        "applied to each hidden layer.\n",
        "In order to determine the best among our candidate models,\n",
        "we will typically employ a validation set.\n",
        "\n",
        "\n",
        "### Validation Dataset\n",
        "\n",
        "In principle we should not touch our test set\n",
        "until after we have chosen all our hyper-parameters.\n",
        "Were we to use the test data in the model selection process,\n",
        "there is a risk that we might overfit the test data.\n",
        "Then we would be in serious trouble.\n",
        "If we overfit our training data,\n",
        "there is always the evaluation on test data to keep us honest.\n",
        "But if we overfit the test data, how would we ever know?\n",
        "\n",
        "\n",
        "Thus, we should never rely on the test data for model selection.\n",
        "And yet we cannot rely solely on the training data\n",
        "for model selection either because\n",
        "we cannot estimate the generalization error\n",
        "on the very data that we use to train the model.\n",
        "\n",
        "The common practice to address this problem\n",
        "is to split our data three ways,\n",
        "incorporating a *validation set*\n",
        "in addition to the training and test sets.\n",
        "\n",
        "\n",
        "In practical applications, the picture gets muddier.\n",
        "While ideally we would only touch the test data once,\n",
        "to assess the very best model or to compare\n",
        "a small number of models to each other,\n",
        "real-world test data is seldom discarded after just one use.\n",
        "We can seldom afford a new test set for each round of experiments.\n",
        "\n",
        "The result is a murky practice where the boundaries\n",
        "between validation and test data are worryingly ambiguous.\n",
        "Unless explicitly stated otherwise, in the experiments in this book\n",
        "we are really working with what should rightly be called\n",
        "training data and validation data, with no true test sets.\n",
        "Therefore, the accuracy reported in each experiment\n",
        "is really the validation accuracy and not a true test set accuracy.\n",
        "The good news is that we do not need too much data in the validation set.\n",
        "The uncertainty in our estimates can be shown\n",
        "to be of the order of $\\mathcal{O}(n^{-\\frac{1}{2}})$.\n",
        "\n",
        "\n",
        "### $K$-Fold Cross-Validation\n",
        "\n",
        "When training data is scarce,\n",
        "we might not even be able to afford to hold out\n",
        "enough data to constitute a proper validation set.\n",
        "One popular solution to this problem is to employ\n",
        "$K$*-fold cross-validation*.\n",
        "Here, the original training data is split into $K$ non-overlapping subsets.\n",
        "Then model training and validation are executed $K$ times,\n",
        "each time training on $K-1$ subsets and validating\n",
        "on a different subset (the one not used for training in that round).\n",
        "Finally, the training and validation error rates are estimated\n",
        "by averaging over the results from the $K$ experiments.\n"
      ]
    },
    {
      "cell_type": "markdown",
      "metadata": {
        "id": "9yYdUa3W9kI2",
        "colab_type": "text"
      },
      "source": [
        "**Exercise:** Implement a 5-fold validation scheme using the training data set from FashionMNIST. The function below should return the *average* accuracy over all 5 folds. Note: Use the same network, parameters, hyperparameters, and data from above.\n"
      ]
    },
    {
      "cell_type": "code",
      "metadata": {
        "id": "vc3TAzce9zKl",
        "colab_type": "code",
        "outputId": "019c1bea-81b1-48ad-9d4e-ff033f72ff97",
        "colab": {
          "base_uri": "https://localhost:8080/",
          "height": 34
        }
      },
      "source": [
        "\n",
        "def five_fold_validation(train_iter, test_iter):\n",
        "  from sklearn.model_selection import KFold\n",
        "  batch_size = 256\n",
        "  if sys.platform.startswith('win'):\n",
        "    # set 0 for windows\n",
        "    # 0 means no additional processes are needed to speed up the reading of data\n",
        "    num_workers = 0\n",
        "  else:\n",
        "    num_workers = 4\n",
        "  avg_accuracy = 0.0\n",
        "  K = 5   # number of folds\n",
        "  \n",
        "  ## Write your code here\n",
        "  mnist_train = torchvision.datasets.FashionMNIST(root=\"./\", train=True, transform=trans, target_transform=None, download=True)\n",
        "  #mnist_test = torchvision.datasets.FashionMNIST(root=\"./\", train=False, transform=trans, target_transform=None, download=True)\n",
        "  #train_set, val_set = torch.utils.data.random_split(dataset, [50000, 10000])\n",
        "  class Net(nn.Module):\n",
        "    def __init__(self, num_inputs = 784, num_outputs = 10, num_hiddens = 256, is_training = True):\n",
        "        super(Net, self).__init__()\n",
        "        \n",
        "        self.num_inputs = num_inputs\n",
        "        self.num_outputs = num_outputs\n",
        "        self.num_hiddens = num_hiddens\n",
        "        \n",
        "        self.layer1 = nn.Sequential(\n",
        "            nn.Linear(num_inputs, num_hiddens),\n",
        "            nn.ReLU())\n",
        "        self.layer2 = nn.Linear(num_hiddens, num_outputs)\n",
        "\n",
        "    def forward(self, X):\n",
        "        X = X.reshape((-1, self.num_inputs))\n",
        "        H1 = self.layer1(X)\n",
        "        out = self.layer2(H1)\n",
        "        return out\n",
        "\n",
        "  def init_weights(m):\n",
        "    if type(m) == nn.Linear:\n",
        "        torch.nn.init.normal_(m.weight, std=0.01)        \n",
        "        m.bias.data.fill_(0.01)\n",
        "\n",
        "  # Create an instance of the MLP\n",
        "  net = Net()\n",
        "  net.apply(init_weights)\n",
        "  \n",
        "  num_epochs, lr, batch_size = 10, 0.5, 256\n",
        "  criterion = nn.CrossEntropyLoss()\n",
        " \n",
        "  kfold = KFold(K,True,1)\n",
        "  i =1\n",
        "  for train, test in kfold.split(mnist_train):\n",
        "    net.apply(init_weights) # this line is to reset the weights of the network\n",
        "    optimizer = torch.optim.SGD(net.parameters(), lr = lr)\n",
        "    #testdata = torch.index_select(mnist_train,0, train_idx, testdata)\n",
        "    train_data = torch.utils.data.Subset(mnist_train, train)\n",
        "    test_data =torch.utils.data.Subset(mnist_train, test)\n",
        "    train_iter = DataLoader(mnist_train, batch_size, shuffle=True, num_workers=num_workers)\n",
        "    test_iter = DataLoader(mnist_test, batch_size, shuffle=False, num_workers=num_workers)\n",
        "    #print('train: {}, test: {}'.format(train, test))\n",
        "    #print(len(train_iter))\n",
        "    \n",
        "    for epoch in range(num_epochs): \n",
        "      train_loss_epoch = 0.0\n",
        "      total = 0\n",
        "      correct = 0\n",
        "      net.train()\n",
        "      for X, y in train_iter:  \n",
        "        y_hat = net(X)        \n",
        "        l = criterion(y_hat, y)\n",
        "        train_loss_epoch += l\n",
        "        total += y.size(0)\n",
        "        correct += (y_hat.argmax(dim=1) == y).sum().item()\n",
        "        optimizer.zero_grad() \n",
        "        l.backward() \n",
        "        optimizer.step()\n",
        "      train_accuracy = correct/total\n",
        "      train_loss_epoch /= len(train_iter)\n",
        "    \n",
        "      net.eval()\n",
        "      with torch.no_grad():\n",
        "        test_loss_epoch = 0.0\n",
        "        for X_test, y_test in test_iter:\n",
        "          y_test_hat = net(X_test)\n",
        "          b_l = criterion(y_test_hat, y_test) \n",
        "          test_loss_epoch += b_l\n",
        "          total += y_test.size(0)\n",
        "          correct += (y_test_hat.argmax(dim=1) == y_test).sum().item() \n",
        "        test_loss_epoch /= len(test_iter)  \n",
        "        test_accuracy = correct/total\n",
        "      #print('epoch {}, train loss {}, train aacuracy{}, test loss {}, test accuracy{}'.format(epoch+1, train_loss_epoch,train_accuracy ,test_loss_epoch,test_accuracy)) \n",
        "    avg_accuracy += test_accuracy\n",
        "    #print(\"split:{},Accuracy:{} \".format(i,test_accuracy))\n",
        "    i=i+1;\n",
        "  avg_accuracy /= K\n",
        "  ## end of function\n",
        "  return avg_accuracy\n",
        "\n",
        "\n",
        "#five_fold_validation(train_iter, test_iter)"
      ],
      "execution_count": 0,
      "outputs": [
        {
          "output_type": "execute_result",
          "data": {
            "text/plain": [
              "0.88304"
            ]
          },
          "metadata": {
            "tags": []
          },
          "execution_count": 18
        }
      ]
    },
    {
      "cell_type": "markdown",
      "metadata": {
        "id": "H67vehrf9fNs",
        "colab_type": "text"
      },
      "source": [
        "# Underfitting or Overfitting?\n",
        "When we compare the training and validation errors, we want to be mindful of two common situations: First, we want\n",
        "to watch out for cases when our training error and validation error are both substantial but there is a little gap between\n",
        "them. If the model is unable to reduce the training error, that could mean that our model is too simple (i.e., insufficiently\n",
        "expressive) to capture the pattern that we are trying to model. Moreover, since the generalization gap between our training\n",
        "and validation errors is small, we have reason to believe that we could get away with a more complex model. This\n",
        "phenomenon is known as underfitting.\n",
        "\n",
        "On the other hand, as we discussed above, we want to watch out for the cases when our training error is significantly lower\n",
        "than our validation error, indicating severe overfitting. Note that overfitting is not always a bad thing. With deep learning\n",
        "especially, it’s well known that the best predictive models often perform far better on training data than on holdout data.\n",
        "\n",
        "Ultimately, we usually care more about the validation error than about the gap between the training and validation errors.\n",
        "Whether we overfit or underfit can depend both on the complexity of our model and the size of the available training\n",
        "datasets, two topics that we discuss below.\n",
        "\n",
        "## Model Complexity \n",
        "\n",
        "To illustrate some classical intuition about overfitting and model complexity, we given an example using polynomials.\n",
        "Given training data consisting of a single feature x and a corresponding real-valued label y, we try to find the polynomial\n",
        "of degree d\n",
        "\n",
        "$$y=\\sum_{i=0}^d\\ W^ix^i$$\n",
        "\n",
        "to estimate the labels y. This is just a linear regression problem where our features are given by the powers of x, the wi\n",
        "given the model’s weights, and the bias is given by w0 since x\n",
        "0 = 1 for all x. Since this is just a linear regression problem,\n",
        "we can use the squared error as our loss function.\n",
        "A higher-order polynomial function is more complex than a lower order polynomial function, since the higher-order polynomial has more parameters and the model function’s selection range is wider. Fixing the training data set, higher-order\n",
        "polynomial functions should always achieve lower (at worst, equal) training error relative to lower degree polynomials.\n",
        "In fact, whenever the data points each have a distinct value of x, a polynomial function with degree equal to the number\n",
        "of data points can fit the training set perfectly. We visualize the relationship between polynomial degree and under- vs\n",
        "over-fitting below.\n",
        "\n",
        "## Data Set Size\n",
        "\n",
        "The other big consideration to bear in mind is the dataset size. Fixing our model, the fewer samples we have in the\n",
        "training dataset, the more likely (and more severely) we are to encounter overfitting. As we increase the amount of\n",
        "training data, the generalization error typically decreases. Moreover, in general, more data never hurts. For a fixed task\n",
        "and data distribution, there is typically a relationship between model complexity and dataset size. Given more data, we\n",
        "might profitably attempt to fit a more complex model. Absent sufficient data, simpler models may be difficult to beat. For\n",
        "many tasks, deep learning only outperforms linear models when many thousands of training examples are available. In part, the current success of deep learning owes to the current abundance of massive datasets due to internet companies,\n",
        "cheap storage, connected devices, and the broad digitization of the economy.\n",
        "\n",
        "## Polynomial Regression\n",
        "We can now explore these concepts interactively by fitting polynomials to data. To get started we’ll import our usual\n",
        "packages."
      ]
    },
    {
      "cell_type": "code",
      "metadata": {
        "id": "973_Ufhz9fNt",
        "colab_type": "code",
        "colab": {}
      },
      "source": [
        "import torch\n",
        "import torch.nn as nn\n",
        "import torch.nn.functional as F\n",
        "import torch.utils.data as Data\n",
        "from torch.utils.data import TensorDataset\n",
        "from torch.utils.data import DataLoader\n",
        "from matplotlib import pyplot as plt"
      ],
      "execution_count": 0,
      "outputs": []
    },
    {
      "cell_type": "markdown",
      "metadata": {
        "id": "IIes1em49fNw",
        "colab_type": "text"
      },
      "source": [
        "## Generating Data Sets\n",
        "\n",
        "First we need data. Given x, we will use the following cubic polynomial to generate the labels on training and test data:\n",
        "\n",
        "$$y=5+1.2x-3.4\\frac{x^2}{2!}+5.6\\frac{x^3}{3!}+ E where E-N(0,0.1)$$\n",
        "\n",
        "The noise term ϵ obeys a normal distribution with a mean of 0 and a standard deviation of 0.1. We’ll synthesize 100\n",
        "samples each for the training set and test set"
      ]
    },
    {
      "cell_type": "code",
      "metadata": {
        "id": "ZFY-xoDc9fNw",
        "colab_type": "code",
        "colab": {}
      },
      "source": [
        "max_degree=20\n",
        "n_train,n_test=100,100"
      ],
      "execution_count": 0,
      "outputs": []
    },
    {
      "cell_type": "code",
      "metadata": {
        "id": "Fai0nHcw9fNy",
        "colab_type": "code",
        "colab": {}
      },
      "source": [
        "poly_features=torch.zeros(20,200)\n",
        "true_w=torch.zeros(max_degree)\n",
        "true_w[0:4] = torch.tensor([5, 1.2, -3.4, 5.6])\n",
        "features = torch.randn(size=(n_train + n_test, 1))\n",
        "x_list=torch.arange(max_degree)\n",
        "x_list.float()\n",
        "features=features.reshape(1,-1)\n",
        "\n",
        "for i in range(1,max_degree):\n",
        "    \n",
        "    poly_features[i] = torch.pow(features,i)\n",
        "    \n",
        "print(features[:,4])\n",
        "print(poly_features[:,4])"
      ],
      "execution_count": 0,
      "outputs": []
    },
    {
      "cell_type": "markdown",
      "metadata": {
        "id": "tTPi2hwn9fN1",
        "colab_type": "text"
      },
      "source": [
        "For optimization, we typically want to avoid very large values of gradients, losses, etc. This is why the monomials stored\n",
        "in poly_features are rescaled from x\n",
        "\n",
        "It allows us to avoid very large values for large exponents i. Factorials\n",
        "are implemented in Gluon using the Gamma function, where n! = Γ(n + b 1).\n",
        "Take a look at the first 2 samples from the generated data set. The value 1 is technically a feature, namely the constant\n",
        "feature corresponding to the bias"
      ]
    },
    {
      "cell_type": "code",
      "metadata": {
        "id": "CNjqZOGw9fN2",
        "colab_type": "code",
        "colab": {}
      },
      "source": [
        "from scipy.special import factorial\n",
        "ok=torch.arange(1,(max_degree) + 1).reshape((1, -1))\n",
        "\n",
        "dr=factorial(ok)\n",
        "\n",
        "dr2=torch.from_numpy(dr)\n",
        "\n",
        "poly_features = poly_features.double() /dr2.t()\n",
        "\n",
        "labels = torch.matmul(true_w.double(),poly_features)\n",
        "\n",
        "poly_features = poly_features.type(torch.FloatTensor)\n",
        "\n",
        "labels = labels.type(torch.FloatTensor)\n",
        "\n",
        "labels += torch.randn(200)*0.5"
      ],
      "execution_count": 0,
      "outputs": []
    },
    {
      "cell_type": "markdown",
      "metadata": {
        "id": "FPxGr6ek9fN4",
        "colab_type": "text"
      },
      "source": [
        "### Defining, Training and Testing Model\n",
        "We first define the plotting functionsemilogy, where the y axis makes use of the logarithmic scale\n",
        "\n",
        "Since we will be attempting to fit the generated dataset using models of varying complexity, we insert the model definition\n",
        "into the fit_and_plot function. The training and testing steps involved in polynomial function fitting are similar to\n",
        "those previously described in softmax regression"
      ]
    },
    {
      "cell_type": "code",
      "metadata": {
        "id": "Pw1ZyFfu9fN4",
        "colab_type": "code",
        "colab": {}
      },
      "source": [
        "def semilogy(x_vals, y_vals, x_label, y_label, x2_vals=None, y2_vals=None, legend=None, figsize=(3.5, 2.5)):    \n",
        "    plt.xlabel(x_label)\n",
        "    plt.ylabel(y_label)\n",
        "    plt.semilogy(x_vals, y_vals)\n",
        "    if x2_vals and y2_vals:\n",
        "        plt.semilogy(x2_vals, y2_vals, linestyle=':')\n",
        "        plt.legend(legend)"
      ],
      "execution_count": 0,
      "outputs": []
    },
    {
      "cell_type": "code",
      "metadata": {
        "id": "2i-GZMV29fN6",
        "colab_type": "code",
        "colab": {}
      },
      "source": [
        "def fit_and_plot(train_features,train_labels,test_features,test_labels,no_inputs):\n",
        "    class LinearRegressionModel(torch.nn.Module): \n",
        "        def __init__(self): \n",
        "            super(LinearRegressionModel, self).__init__() \n",
        "            self.linear = torch.nn.Linear(no_inputs, 1)  \n",
        "  \n",
        "        def forward(self, x): \n",
        "            y_pred = self.linear(x) \n",
        "            return y_pred \n",
        "    \n",
        "    model = LinearRegressionModel() \n",
        "    criterion = torch.nn.MSELoss(reduction='sum') \n",
        "    optimizer = torch.optim.SGD(model.parameters(), lr = 0.01)\n",
        "    train_ls,test_ls=[],[]   \n",
        "    train_labels=train_labels.reshape(-1,1)\n",
        "    train_ds=TensorDataset(train_features,train_labels)\n",
        "    batch_size=10\n",
        "    train_dl=DataLoader(train_ds,batch_size,shuffle=True)    \n",
        "    test_labels=test_labels.reshape(-1,1)\n",
        "    for ep in range(100):\n",
        "        for xb,yb in train_dl:         \n",
        "            pred_y = model(xb)     \n",
        "            loss = criterion(pred_y, yb)             \n",
        "            optimizer.zero_grad() \n",
        "            loss.backward() \n",
        "            optimizer.step()\n",
        "          \n",
        "        predytr=model(train_features)\n",
        "        train_ls.append((criterion(predytr,train_labels)).mean())\n",
        "        predyts=model(test_features)\n",
        "        test_ls.append((criterion(predyts,test_labels)).mean())    \n",
        "    \n",
        "    print('final epoch:train loss',train_ls[-1],'test Loss',test_ls[-1])\n",
        "    semilogy(range(1,ep+2), train_ls,'epoch','loss',range(1,ep+2),test_ls,['train','test'])"
      ],
      "execution_count": 0,
      "outputs": []
    },
    {
      "cell_type": "markdown",
      "metadata": {
        "id": "Kja7I86v9fN9",
        "colab_type": "text"
      },
      "source": [
        "### Third-order Polynomial Function Fitting (Normal)\n",
        "\n",
        "We will begin by first using a third-order polynomial function with the same order as the data generation function. The\n",
        "results show that this model’s training error rate when using the testing data set is low. The trained model parameters are\n",
        "also close to the true values w = [5, 1.2, −3.4, 5.6].\n"
      ]
    },
    {
      "cell_type": "code",
      "metadata": {
        "id": "-7OcI-OQ9fN9",
        "colab_type": "code",
        "colab": {}
      },
      "source": [
        "poly_features_t=poly_features.t()\n",
        "fit_and_plot(train_features=poly_features_t[:100,0:4],train_labels=labels[:100],test_features=poly_features_t[100:,0:4],test_labels=labels[100:],no_inputs=4)"
      ],
      "execution_count": 0,
      "outputs": []
    },
    {
      "cell_type": "markdown",
      "metadata": {
        "id": "nKaBc4WJ9fOA",
        "colab_type": "text"
      },
      "source": [
        "## Linear Function Fitting\n",
        "Let’s take another look at linear function fitting. After the decline in the early epoch, it becomes difficult to further\n",
        "decrease this model’s training error rate. After the last epoch iteration has been completed, the training error rate is\n",
        "still high. When used to fit non-linear patterns (like the third-order polynomial function here) linear models are liable to\n",
        "underfit."
      ]
    },
    {
      "cell_type": "code",
      "metadata": {
        "scrolled": true,
        "id": "na-5Vv3-9fOA",
        "colab_type": "code",
        "colab": {}
      },
      "source": [
        "fit_and_plot(train_features=poly_features_t[:100,0:3],train_labels=labels[:100],test_features=poly_features_t[100:,0:3],test_labels=labels[100:],no_inputs=3)"
      ],
      "execution_count": 0,
      "outputs": []
    },
    {
      "cell_type": "markdown",
      "metadata": {
        "id": "KTyiIuGa9fOC",
        "colab_type": "text"
      },
      "source": [
        "## Insufficient Training(Overfitting)\n",
        "Now let’s try to train the model using a polynomial of too high degree. Here, there is insufficient data to learn that the\n",
        "higher-degree coefficients should have values close to zero. As a result, our overly-complex model is far too susceptible\n",
        "to being influenced by noise in the training data. Of course, our training error will now be low (even lower than if we had\n",
        "the right model!) but our test error will be high.\n",
        "Try out different model complexities (n_degree) and training set sizes (n_subset) to gain some intuition of what is\n",
        "happening.\n"
      ]
    },
    {
      "cell_type": "code",
      "metadata": {
        "id": "8nElQOGu9fOC",
        "colab_type": "code",
        "colab": {}
      },
      "source": [
        "fit_and_plot(train_features=poly_features_t[1:100,0:20],train_labels=labels[1:100],test_features=poly_features_t[100:,0:20],test_labels=labels[100:],no_inputs=20)"
      ],
      "execution_count": 0,
      "outputs": []
    },
    {
      "cell_type": "markdown",
      "metadata": {
        "id": "3acPbUW3FlVz",
        "colab_type": "text"
      },
      "source": [
        "## Summary\n",
        "*   Since the generalization error rate cannot be estimated based on the training error rate, simply minimizing the training error rate will not necessarily mean a reduction in the generalization error rate. Machine learning models need to be careful to safeguard against overfitting such as to minimize the generalization error.\n",
        "*    A validation set can be used for model selection (provided that it is not used too liberally).\n",
        "*    Underfitting means that the model is not able to reduce the training error rate, while overfitting is a result of the model training error rate being much lower than the testing dataset rate.\n",
        "*    We should choose an appropriately complex model and avoid using insufficient training samples.\n"
      ]
    }
  ]
}